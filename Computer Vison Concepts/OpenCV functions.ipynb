{
 "cells": [
  {
   "cell_type": "code",
   "execution_count": 2,
   "metadata": {
    "collapsed": true
   },
   "outputs": [],
   "source": [
    "import numpy as np\n",
    "import matplotlib.pyplot as plt\n",
    "import cv2"
   ]
  },
  {
   "cell_type": "markdown",
   "metadata": {},
   "source": [
    "### Numpy Functions"
   ]
  },
  {
   "cell_type": "code",
   "execution_count": null,
   "metadata": {
    "collapsed": true
   },
   "outputs": [],
   "source": [
    "img_copy = np.copy(image) # to copy image\n"
   ]
  },
  {
   "cell_type": "markdown",
   "metadata": {},
   "source": [
    "### matplotlib Functions"
   ]
  },
  {
   "cell_type": "code",
   "execution_count": null,
   "metadata": {
    "collapsed": true
   },
   "outputs": [],
   "source": [
    "plt.imshow(image) # to show the image\n"
   ]
  },
  {
   "cell_type": "markdown",
   "metadata": {},
   "source": [
    "### OpenCV functions"
   ]
  },
  {
   "cell_type": "code",
   "execution_count": null,
   "metadata": {
    "collapsed": true
   },
   "outputs": [],
   "source": [
    "image = cv2.imread('img/abc.jpg') # to select the image\n",
    "image = cv2.cvtColor(image, cv2.COLOR_BGR2RGB) # to convert from BGR to RGB\n",
    "mask = cv2.inRange(image, np.array([0,0,220]),np.array([50,50,225])) # for masking blue color\n",
    "image_resize = cv2.Resize(image, (1100,600))\n",
    "# for creating vertical filter on the image\n",
    "# (grayscale image, what output we want: bit-depth, kernel)\n",
    "high_pass_filter_img = cv2.filter2D(gray_image, -1, sobel_x) \n",
    "# Turning above image into binary image i.e purly black and white image we use threshold\n",
    "#cv2 Threshold funciton will take in image,lower thresh, upper thresh, funciton\n",
    "retval, binary_image = cv2.threshold(high_pass_filter_img, 100, 255, cv2.THRESH_BINARY)\n",
    "#cv2 Threshold funciton will take in image,lower thresh, upper thresh, funciton\n"
   ]
  }
 ],
 "metadata": {
  "kernelspec": {
   "display_name": "Python 3",
   "language": "python",
   "name": "python3"
  },
  "language_info": {
   "codemirror_mode": {
    "name": "ipython",
    "version": 3
   },
   "file_extension": ".py",
   "mimetype": "text/x-python",
   "name": "python",
   "nbconvert_exporter": "python",
   "pygments_lexer": "ipython3",
   "version": "3.6.7"
  }
 },
 "nbformat": 4,
 "nbformat_minor": 2
}
