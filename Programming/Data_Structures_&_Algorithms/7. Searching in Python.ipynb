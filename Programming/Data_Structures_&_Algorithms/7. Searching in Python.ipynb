{
 "cells": [
  {
   "cell_type": "markdown",
   "metadata": {},
   "source": [
    "## \"in\" Operator\n",
    "- In python, we can use in operator to search elements in a list\n",
    "- It will results is True/False"
   ]
  },
  {
   "cell_type": "code",
   "execution_count": null,
   "metadata": {},
   "outputs": [],
   "source": [
    "even_list = [2,4,6,8,10,12]\n",
    "10 in even_list"
   ]
  },
  {
   "cell_type": "code",
   "execution_count": null,
   "metadata": {},
   "outputs": [],
   "source": [
    "3 in [0,1,2,4,5]"
   ]
  },
  {
   "cell_type": "markdown",
   "metadata": {},
   "source": [
    "## Sequential Search\n",
    "- Here we sequentially go through the data strucutre and compare with each element untile we either find the element or go through entire list.\n",
    "- In the unordered list, here is the time complexity:\n",
    "\n",
    "|Scenario            |Best case      | Worst Case    |Avg Case    | \n",
    "|--------------------|---------------|---------------|------------|\n",
    "|Item in the list    |1              |n              |n/2         |\n",
    "|Item is not in list |n              |n              |n           |\n",
    "\n",
    "- In the orderded list, here is the time complexit:\n",
    "\n",
    "|Scenario            |Best case      | Worst Case    |Avg Case    | \n",
    "|--------------------|---------------|---------------|------------|\n",
    "|Item in the list    |1              |n              |n/2         |\n",
    "|Item is not in list |1              |n              |n/2         |"
   ]
  },
  {
   "cell_type": "markdown",
   "metadata": {},
   "source": [
    "### Implementation of Sequential Search on Unordered lists"
   ]
  },
  {
   "cell_type": "code",
   "execution_count": null,
   "metadata": {},
   "outputs": [],
   "source": [
    "def un_seq_search(arr, item):\n",
    "    \n",
    "    position = 0    # Initializing position variable with 0\n",
    "    found = False   # Initializing found variable  \n",
    "    \n",
    "    while position < len(arr) and not found:\n",
    "        if arr[position] == item:\n",
    "            found = True\n",
    "        else:\n",
    "            position += 1\n",
    "    return found\n",
    "    \n",
    "array = [20, 12, 8, 2,5,7,9,10]\n",
    "un_seq_search(array, 6)"
   ]
  },
  {
   "cell_type": "markdown",
   "metadata": {},
   "source": [
    "### Implementation of Sequential Search on Ordered lists"
   ]
  },
  {
   "cell_type": "code",
   "execution_count": null,
   "metadata": {},
   "outputs": [],
   "source": [
    "def ordered_seq_search(arr, item):\n",
    "    \n",
    "    position = 0    # Initializing position variable with 0\n",
    "    found = False   # Initializing found variable \n",
    "    stopped = False\n",
    "    \n",
    "    while position < len(arr) and not found and not stopped:\n",
    "        if arr[position] == item:\n",
    "            found = True\n",
    "        else:\n",
    "            if arr[position] > item:\n",
    "                stopped = True\n",
    "            else:\n",
    "                position = position + 1\n",
    "    return found\n",
    "    \n",
    "array = [2,5,7,9,10]\n",
    "un_seq_search(array, 11)"
   ]
  },
  {
   "cell_type": "markdown",
   "metadata": {},
   "source": [
    "## Binary Search\n",
    "- Also called Half-interval /Logarithmic search.\n",
    "- SORTED ARRAY is required for this.\n",
    "- Compares target with middle item.\n",
    "- If target > middle item, we can just ignore lower half of the list of items and focus on upper.\n",
    "- Repeat above process.\n",
    "- It uses Divide and Conquer method.\n",
    "- It is faster than linear search except for small arrays.\n",
    "\n",
    "### Implementation of Binary Search"
   ]
  },
  {
   "cell_type": "code",
   "execution_count": 3,
   "metadata": {},
   "outputs": [],
   "source": [
    "def binary_search(array, item):\n",
    "    first = 0\n",
    "    last = len(array)-1\n",
    "    found = False\n",
    "    \n",
    "    while first <= last and not found:\n",
    "        mid = (first+last)//2\n",
    "        \n",
    "        if array[mid] == item:\n",
    "            found = True\n",
    "            \n",
    "        else:\n",
    "            # Check if item is less then mid\n",
    "            if item < array[mid]:\n",
    "                last = mid-1\n",
    "            else:\n",
    "                first = mid+1\n",
    "    return found"
   ]
  },
  {
   "cell_type": "code",
   "execution_count": 4,
   "metadata": {},
   "outputs": [
    {
     "data": {
      "text/plain": [
       "False"
      ]
     },
     "execution_count": 4,
     "metadata": {},
     "output_type": "execute_result"
    }
   ],
   "source": [
    "array = [2,5,7,9,10]\n",
    "binary_search(array, 11)"
   ]
  },
  {
   "cell_type": "code",
   "execution_count": null,
   "metadata": {},
   "outputs": [],
   "source": [
    "len(array)"
   ]
  },
  {
   "cell_type": "code",
   "execution_count": 2,
   "metadata": {},
   "outputs": [
    {
     "data": {
      "text/plain": [
       "1"
      ]
     },
     "execution_count": 2,
     "metadata": {},
     "output_type": "execute_result"
    }
   ],
   "source": [
    "(1+2)//2"
   ]
  },
  {
   "cell_type": "code",
   "execution_count": null,
   "metadata": {},
   "outputs": [],
   "source": []
  }
 ],
 "metadata": {
  "kernelspec": {
   "display_name": "Python 3",
   "language": "python",
   "name": "python3"
  },
  "language_info": {
   "codemirror_mode": {
    "name": "ipython",
    "version": 3
   },
   "file_extension": ".py",
   "mimetype": "text/x-python",
   "name": "python",
   "nbconvert_exporter": "python",
   "pygments_lexer": "ipython3",
   "version": "3.7.6"
  }
 },
 "nbformat": 4,
 "nbformat_minor": 4
}
