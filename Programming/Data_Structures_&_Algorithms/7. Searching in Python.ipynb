{
 "cells": [
  {
   "cell_type": "markdown",
   "metadata": {},
   "source": [
    "## \"in\" Operator\n",
    "- In python, we can use in operator to search elements in a list\n",
    "- It will results is True/False"
   ]
  },
  {
   "cell_type": "code",
   "execution_count": 1,
   "metadata": {},
   "outputs": [
    {
     "data": {
      "text/plain": [
       "True"
      ]
     },
     "execution_count": 1,
     "metadata": {},
     "output_type": "execute_result"
    }
   ],
   "source": [
    "even_list = [2,4,6,8,10,12]\n",
    "10 in even_list"
   ]
  },
  {
   "cell_type": "code",
   "execution_count": 2,
   "metadata": {},
   "outputs": [
    {
     "data": {
      "text/plain": [
       "False"
      ]
     },
     "execution_count": 2,
     "metadata": {},
     "output_type": "execute_result"
    }
   ],
   "source": [
    "3 in [0,1,2,4,5]"
   ]
  },
  {
   "cell_type": "markdown",
   "metadata": {},
   "source": [
    "## Sequential Search\n",
    "- Here we sequentially go through the data strucutre and compare with each element untile we either find the element or go through entire list.\n",
    "- In the unordered list, here is the time complexity:\n",
    "\n",
    "|Scenario            |Best case      | Worst Case    |Avg Case    | \n",
    "|--------------------|---------------|---------------|------------|\n",
    "|Item in the list    |1              |n              |n/2         |\n",
    "|Item is not in list |n              |n              |n           |\n",
    "\n",
    "- In the orderded list, here is the time complexit:\n",
    "\n",
    "|Scenario            |Best case      | Worst Case    |Avg Case    | \n",
    "|--------------------|---------------|---------------|------------|\n",
    "|Item in the list    |1              |n              |n/2         |\n",
    "|Item is not in list |1              |n              |n/2         |"
   ]
  },
  {
   "cell_type": "markdown",
   "metadata": {},
   "source": [
    "### Implementation of Sequential Search on Unordered lists"
   ]
  },
  {
   "cell_type": "code",
   "execution_count": 3,
   "metadata": {},
   "outputs": [
    {
     "data": {
      "text/plain": [
       "False"
      ]
     },
     "execution_count": 3,
     "metadata": {},
     "output_type": "execute_result"
    }
   ],
   "source": [
    "def un_seq_search(arr, item):\n",
    "    \n",
    "    position = 0    # Initializing position variable with 0\n",
    "    found = False   # Initializing found variable  \n",
    "    \n",
    "    while position < len(arr) and not found:\n",
    "        if arr[position] == item:\n",
    "            found = True\n",
    "        else:\n",
    "            position += 1\n",
    "    return found\n",
    "    \n",
    "array = [20, 12, 8, 2,5,7,9,10]\n",
    "un_seq_search(array, 6)"
   ]
  },
  {
   "cell_type": "markdown",
   "metadata": {},
   "source": [
    "### Implementation of Sequential Search on Ordered lists"
   ]
  },
  {
   "cell_type": "code",
   "execution_count": 4,
   "metadata": {},
   "outputs": [
    {
     "data": {
      "text/plain": [
       "False"
      ]
     },
     "execution_count": 4,
     "metadata": {},
     "output_type": "execute_result"
    }
   ],
   "source": [
    "def ordered_seq_search(arr, item):\n",
    "    \n",
    "    position = 0    # Initializing position variable with 0\n",
    "    found = False   # Initializing found variable \n",
    "    stopped = False\n",
    "    \n",
    "    while position < len(arr) and not found and not stopped:\n",
    "        if arr[position] == item:\n",
    "            found = True\n",
    "        else:\n",
    "            if arr[position] > item:\n",
    "                stopped = True\n",
    "            else:\n",
    "                position = position + 1\n",
    "    return found\n",
    "    \n",
    "array = [2,5,7,9,10]\n",
    "un_seq_search(array, 11)"
   ]
  },
  {
   "cell_type": "markdown",
   "metadata": {},
   "source": [
    "## Binary Search\n",
    "- Also called Half-interval /Logarithmic search.\n",
    "- SORTED ARRAY is required for this.\n",
    "- Compares target with middle item.\n",
    "- If target > middle item, we can just ignore lower half of the list of items and focus on upper.\n",
    "- Repeat above process.\n",
    "- It uses Divide and Conquer method.\n",
    "- It is faster than linear search except for small arrays.\n",
    "\n",
    "### Implementation of Binary Search"
   ]
  },
  {
   "cell_type": "code",
   "execution_count": 5,
   "metadata": {},
   "outputs": [],
   "source": [
    "def binary_search(array,item):\n",
    "    first = 0            # First position of the item\n",
    "    last = len(array)-1  # Last position of the item\n",
    "    found = False        # Initializing found variable with false\n",
    "    \n",
    "    while first <= last and not found:\n",
    "        mid = (first+last)//2\n",
    "        # check if item = mid\n",
    "        if array[mid] == item:\n",
    "            found = True\n",
    "        else:\n",
    "            # Check if item is less then mid\n",
    "            if item < array[mid]:\n",
    "                last = mid - 1\n",
    "            else:\n",
    "                first = mid + 1\n",
    "    return found"
   ]
  },
  {
   "cell_type": "code",
   "execution_count": 6,
   "metadata": {},
   "outputs": [
    {
     "data": {
      "text/plain": [
       "True"
      ]
     },
     "execution_count": 6,
     "metadata": {},
     "output_type": "execute_result"
    }
   ],
   "source": [
    "array = [2,5,7,9,10]\n",
    "binary_search(array, 10)"
   ]
  },
  {
   "cell_type": "markdown",
   "metadata": {},
   "source": [
    "### Recursive version"
   ]
  },
  {
   "cell_type": "code",
   "execution_count": 7,
   "metadata": {},
   "outputs": [],
   "source": [
    "def recursive_binary_search(array, item):\n",
    "    \n",
    "    # Base case\n",
    "    if len(array) == 0:\n",
    "        return \"Item not found\"\n",
    "    \n",
    "    # Recursive case\n",
    "    else:\n",
    "        mid = len(array)//2\n",
    "        \n",
    "        # if item = mid\n",
    "        if array[mid] == item:\n",
    "            return \"Item found\"\n",
    "        \n",
    "        else:\n",
    "            # if item < mid, recursive search with array elements < mid value \n",
    "            if item < array[mid]:\n",
    "                return recursive_binary_search(array[:mid], item)\n",
    "            else:\n",
    "                return recursive_binary_search(array[mid+1:], item)"
   ]
  },
  {
   "cell_type": "code",
   "execution_count": 8,
   "metadata": {},
   "outputs": [
    {
     "data": {
      "text/plain": [
       "'Item found'"
      ]
     },
     "execution_count": 8,
     "metadata": {},
     "output_type": "execute_result"
    }
   ],
   "source": [
    "array = [1,2,3,4,5,6,7,8,9,10]\n",
    "recursive_binary_search(array, 10)"
   ]
  },
  {
   "cell_type": "markdown",
   "metadata": {},
   "source": [
    "## Hashing"
   ]
  },
  {
   "cell_type": "markdown",
   "metadata": {},
   "source": [
    "HASH TABLES: \n",
    "- It is collection of values mapped to Keys (slots)\n",
    "- It uses a hash function to compute an index into an array of buckets, from which desired value can be found/stored.\n",
    "- *Underlying data structure*: Array\n",
    "- *Application*: Associative arrays, database indexing, caches, sets\n",
    "- *Operations*: Search / retrieval, insertion, removals\n",
    " <img src='img/Hashing.PNG'/> \n",
    " \n",
    "## Implementation of a Hash Table\n",
    "### Methods\n",
    "* **HashTable()** Create a new, empty map. It returns an empty map collection.\n",
    "* **put(key,val)** Add a new key-value pair to the map. If the key is already in the map then replace the old value with the new value.\n",
    "* **get(key)** Given a key, return the value stored in the map or None otherwise.\n",
    "* **del** Delete the key-value pair from the map using a statement of the form del map[key].\n",
    "* **len()** Return the number of key-value pairs stored \n",
    "* **in** the map in Return True for a statement of the form **key in map**, if the given key is in the map, False otherwise."
   ]
  },
  {
   "cell_type": "code",
   "execution_count": 9,
   "metadata": {},
   "outputs": [],
   "source": [
    "class HashTable(object):\n",
    "    \n",
    "    def __init__(self,size):\n",
    "        \n",
    "        # Set up size and slots and data\n",
    "        self.size = size\n",
    "        self.slots = [None] * self.size\n",
    "        self.data = [None] * self.size\n",
    "        \n",
    "    def put(self,key,data):\n",
    "        #Note, we'll only use integer keys for ease of use with the Hash Function\n",
    "        \n",
    "        # Get the hash value\n",
    "        hashvalue = self.hashfunction(key,len(self.slots))\n",
    "\n",
    "        # If Slot is Empty\n",
    "        if self.slots[hashvalue] == None:\n",
    "            self.slots[hashvalue] = key\n",
    "            self.data[hashvalue] = data\n",
    "        \n",
    "        else:\n",
    "            \n",
    "            # If key already exists, replace old value\n",
    "            if self.slots[hashvalue] == key:\n",
    "                self.data[hashvalue] = data  \n",
    "            \n",
    "            # Otherwise, find the next available slot\n",
    "            else:\n",
    "                \n",
    "                nextslot = self.rehash(hashvalue,len(self.slots))\n",
    "                \n",
    "                # Get to the next slot\n",
    "                while self.slots[nextslot] != None and self.slots[nextslot] != key:\n",
    "                    nextslot = self.rehash(nextslot,len(self.slots))\n",
    "                \n",
    "                # Set new key, if NONE\n",
    "                if self.slots[nextslot] == None:\n",
    "                    self.slots[nextslot]=key\n",
    "                    self.data[nextslot]=data\n",
    "                    \n",
    "                # Otherwise replace old value\n",
    "                else:\n",
    "                    self.data[nextslot] = data \n",
    "\n",
    "    def hashfunction(self,key,size):\n",
    "        # Remainder Method\n",
    "        return key%size\n",
    "\n",
    "    def rehash(self,oldhash,size):\n",
    "        # For finding next possible positions\n",
    "        return (oldhash+1)%size\n",
    "    \n",
    "    \n",
    "    def get(self,key):\n",
    "        \n",
    "        # Getting items given a key\n",
    "        \n",
    "        # Set up variables for our search\n",
    "        startslot = self.hashfunction(key,len(self.slots))\n",
    "        data = None\n",
    "        stop = False\n",
    "        found = False\n",
    "        position = startslot\n",
    "        \n",
    "        # Until we discern that its not empty or found (and haven't stopped yet)\n",
    "        while self.slots[position] != None and not found and not stop:\n",
    "            \n",
    "            if self.slots[position] == key:\n",
    "                found = True\n",
    "                data = self.data[position]\n",
    "                \n",
    "            else:\n",
    "                position=self.rehash(position,len(self.slots))\n",
    "                if position == startslot:\n",
    "                    \n",
    "                    stop = True\n",
    "        return data\n",
    "\n",
    "    # Special Methods for use with Python indexing\n",
    "    def __getitem__(self,key):\n",
    "        return self.get(key)\n",
    "\n",
    "    def __setitem__(self,key,data):\n",
    "        self.put(key,data)"
   ]
  },
  {
   "cell_type": "code",
   "execution_count": 10,
   "metadata": {},
   "outputs": [
    {
     "data": {
      "text/plain": [
       "'one'"
      ]
     },
     "execution_count": 10,
     "metadata": {},
     "output_type": "execute_result"
    }
   ],
   "source": [
    "h = HashTable(5)\n",
    "h[1] = 'one'\n",
    "h[2] = 'two'\n",
    "h[3] = 'three'\n",
    "h[1]"
   ]
  },
  {
   "cell_type": "code",
   "execution_count": 11,
   "metadata": {},
   "outputs": [
    {
     "data": {
      "text/plain": [
       "'new_one'"
      ]
     },
     "execution_count": 11,
     "metadata": {},
     "output_type": "execute_result"
    }
   ],
   "source": [
    "h[1] = 'new_one'\n",
    "h[1]"
   ]
  },
  {
   "cell_type": "code",
   "execution_count": 12,
   "metadata": {},
   "outputs": [
    {
     "name": "stdout",
     "output_type": "stream",
     "text": [
      "None\n"
     ]
    }
   ],
   "source": [
    "print(h[4])"
   ]
  },
  {
   "cell_type": "code",
   "execution_count": null,
   "metadata": {},
   "outputs": [],
   "source": []
  }
 ],
 "metadata": {
  "kernelspec": {
   "display_name": "Python 3",
   "language": "python",
   "name": "python3"
  },
  "language_info": {
   "codemirror_mode": {
    "name": "ipython",
    "version": 3
   },
   "file_extension": ".py",
   "mimetype": "text/x-python",
   "name": "python",
   "nbconvert_exporter": "python",
   "pygments_lexer": "ipython3",
   "version": "3.7.6"
  }
 },
 "nbformat": 4,
 "nbformat_minor": 4
}
