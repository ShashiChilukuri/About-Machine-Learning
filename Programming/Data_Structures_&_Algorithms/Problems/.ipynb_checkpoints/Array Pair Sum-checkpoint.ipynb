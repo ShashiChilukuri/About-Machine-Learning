{
 "cells": [
  {
   "cell_type": "markdown",
   "metadata": {},
   "source": [
    "# Array Pair Sum\n",
    "## Problem\n",
    "Given an integer array, output all the ** *unique* ** pairs that sum up to a specific value **k**.\n",
    "Ex: input: *__pair_sum([1,3,2,2],4)__*, would return **2** pairs: *(1,3),(2,2)*\n",
    "\n",
    "## Solution:\n",
    "Here we will use set data structure and it is O(n)"
   ]
  },
  {
   "cell_type": "code",
   "execution_count": 4,
   "metadata": {},
   "outputs": [],
   "source": [
    "def pair_sum(arr, num_sum):\n",
    "    \n",
    "    # To check if the array is atleast of size 2\n",
    "    if len(arr)<2:\n",
    "        return 'Number of elements is the array is 1. It is not eligible for sum'\n",
    "    \n",
    "    pairs = set()                   # Initializing empty set\n",
    "    for num in arr:\n",
    "        target = num_sum - num      # Finding target value to look for in rest of the array\n",
    "        arr.remove(num)             # Getting rest of the array\n",
    "        if target in arr:\n",
    "            pairs.add((num, target))# adding appropriate pairs to our set (pairs)\n",
    "            \n",
    "    return len(pairs)               # printing number of pairs"
   ]
  },
  {
   "cell_type": "raw",
   "metadata": {},
   "source": [
    "# This solution also works, but this is of O(n^2) as there are two \"for\" loops\n",
    "def pair_sum(arr, num_sum):\n",
    "    \n",
    "    pair_list = []\n",
    "    \n",
    "    for num1 in arr:\n",
    "        arr.remove(num1)\n",
    "        for num2 in arr:\n",
    "            if num1 + num2 == num_sum:\n",
    "                pair_list.append((num1, num2))\n",
    "    return len(set(pair_list))"
   ]
  },
  {
   "cell_type": "code",
   "execution_count": 5,
   "metadata": {},
   "outputs": [
    {
     "data": {
      "text/plain": [
       "2"
      ]
     },
     "execution_count": 5,
     "metadata": {},
     "output_type": "execute_result"
    }
   ],
   "source": [
    "pair_sum([1,3,2,2,2,2],4)"
   ]
  },
  {
   "cell_type": "code",
   "execution_count": 6,
   "metadata": {},
   "outputs": [
    {
     "name": "stdout",
     "output_type": "stream",
     "text": [
      "ALL TEST CASES PASSED\n"
     ]
    }
   ],
   "source": [
    "\"\"\"\n",
    "RUN THIS CELL TO TEST YOUR SOLUTION\n",
    "\"\"\"\n",
    "from nose.tools import assert_equal\n",
    "\n",
    "class TestPair(object):\n",
    "    \n",
    "    def test(self,sol):\n",
    "        assert_equal(sol([1,9,2,8,3,7,4,6,5,5,13,14,11,13,-1],10),6)\n",
    "        assert_equal(sol([1,2,3,1],3),1)\n",
    "        assert_equal(sol([1,3,2,2],4),2)\n",
    "        print('ALL TEST CASES PASSED')\n",
    "        \n",
    "#Run tests\n",
    "t = TestPair()\n",
    "t.test(pair_sum)\n",
    "    "
   ]
  }
 ],
 "metadata": {
  "kernelspec": {
   "display_name": "Python 3",
   "language": "python",
   "name": "python3"
  },
  "language_info": {
   "codemirror_mode": {
    "name": "ipython",
    "version": 3
   },
   "file_extension": ".py",
   "mimetype": "text/x-python",
   "name": "python",
   "nbconvert_exporter": "python",
   "pygments_lexer": "ipython3",
   "version": "3.7.6"
  }
 },
 "nbformat": 4,
 "nbformat_minor": 4
}
