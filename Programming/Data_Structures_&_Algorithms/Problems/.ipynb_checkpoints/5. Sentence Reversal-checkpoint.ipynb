{
 "cells": [
  {
   "cell_type": "markdown",
   "metadata": {},
   "source": [
    "# Sentence Reversal\n",
    "\n",
    "## Problem\n",
    "\n",
    "Given a string of words, reverse all the words. Make sure to remove all leading and trailing whitespace For example:\n",
    "\n",
    "    Input: '        This  is        a  sentence       '\n",
    "    Return: 'sentence a is This'\n",
    "\n",
    "## Solution"
   ]
  },
  {
   "cell_type": "code",
   "execution_count": 1,
   "metadata": {},
   "outputs": [],
   "source": [
    "def rev_sentence1(string):\n",
    "    return ' '.join(reversed(string.split()))\n",
    "\n",
    "def rev_sentence2(string):\n",
    "    return ' '.join(string.split()[::-1])"
   ]
  },
  {
   "cell_type": "code",
   "execution_count": 2,
   "metadata": {},
   "outputs": [],
   "source": [
    "def rev_sentence3(string):\n",
    "    \"Manual split and form reverse sentence\"\n",
    "    words = []              # Empty list to collect words\n",
    "    i = 0\n",
    "    \n",
    "    # Loop to check entire string\n",
    "    while i < len(string):\n",
    "        \n",
    "        # For each, if no empty space\n",
    "        if string[i] not in [' ']:\n",
    "            word_start = i  # This is start of word\n",
    "            \n",
    "            # Loop until there is no empty space\n",
    "            while i < len(string) and string[i] not in [' ']:\n",
    "                i += 1\n",
    "            words.insert(0, string[word_start:i]) # Insert into word list in the reverse order\n",
    "        i += 1\n",
    "    \n",
    "    return ' '.join(words) # join the words to form the reverse sentence."
   ]
  },
  {
   "cell_type": "code",
   "execution_count": 3,
   "metadata": {},
   "outputs": [
    {
     "data": {
      "text/plain": [
       "'important is this and sentence is this'"
      ]
     },
     "execution_count": 3,
     "metadata": {},
     "output_type": "execute_result"
    }
   ],
   "source": [
    "string = \" this is sentence             and this is                important\"\n",
    "\n",
    "rev_sentence3(string)"
   ]
  },
  {
   "cell_type": "markdown",
   "metadata": {},
   "source": [
    "## Test"
   ]
  },
  {
   "cell_type": "code",
   "execution_count": 4,
   "metadata": {},
   "outputs": [
    {
     "name": "stdout",
     "output_type": "stream",
     "text": [
      "ALL TEST CASES PASSED\n"
     ]
    }
   ],
   "source": [
    "\"\"\"\n",
    "RUN THIS CELL TO TEST YOUR SOLUTION\n",
    "\"\"\"\n",
    "\n",
    "from nose.tools import assert_equal\n",
    "\n",
    "class ReversalTest(object):\n",
    "    \n",
    "    def test(self,sol):\n",
    "        assert_equal(sol('    space before'),'before space')\n",
    "        assert_equal(sol('space after     '),'after space')\n",
    "        assert_equal(sol('   Hello John    how are you   '),'you are how John Hello')\n",
    "        assert_equal(sol('1'),'1')\n",
    "        print (\"ALL TEST CASES PASSED\")\n",
    "        \n",
    "# Run and test\n",
    "t = ReversalTest()\n",
    "t.test(rev_sentence3)"
   ]
  },
  {
   "cell_type": "code",
   "execution_count": null,
   "metadata": {},
   "outputs": [],
   "source": []
  }
 ],
 "metadata": {
  "kernelspec": {
   "display_name": "Python 3",
   "language": "python",
   "name": "python3"
  },
  "language_info": {
   "codemirror_mode": {
    "name": "ipython",
    "version": 3
   },
   "file_extension": ".py",
   "mimetype": "text/x-python",
   "name": "python",
   "nbconvert_exporter": "python",
   "pygments_lexer": "ipython3",
   "version": "3.7.6"
  }
 },
 "nbformat": 4,
 "nbformat_minor": 4
}
