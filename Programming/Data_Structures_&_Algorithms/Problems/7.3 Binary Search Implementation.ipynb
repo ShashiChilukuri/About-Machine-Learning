{
 "cells": [
  {
   "cell_type": "markdown",
   "metadata": {},
   "source": [
    "# Binary Search Implementation"
   ]
  },
  {
   "cell_type": "code",
   "execution_count": 1,
   "metadata": {},
   "outputs": [],
   "source": [
    "def binary_search(array,item):\n",
    "    first = 0            # First position of the item\n",
    "    last = len(array)-1  # Last position of the item\n",
    "    found = False        # Initializing found variable with false\n",
    "    \n",
    "    while first <= last and not found:\n",
    "        mid = (first+last)//2\n",
    "        # check if item = mid\n",
    "        if array[mid] == item:\n",
    "            found = True\n",
    "        else:\n",
    "            # Check if item is less then mid\n",
    "            if item < array[mid]:\n",
    "                last = mid - 1\n",
    "            else:\n",
    "                first = mid + 1\n",
    "    return found"
   ]
  },
  {
   "cell_type": "code",
   "execution_count": 2,
   "metadata": {},
   "outputs": [
    {
     "data": {
      "text/plain": [
       "True"
      ]
     },
     "execution_count": 2,
     "metadata": {},
     "output_type": "execute_result"
    }
   ],
   "source": [
    "array = [2,5,7,9,10]\n",
    "binary_search(array, 10)"
   ]
  },
  {
   "cell_type": "markdown",
   "metadata": {},
   "source": [
    "### Recursive version"
   ]
  },
  {
   "cell_type": "code",
   "execution_count": 3,
   "metadata": {},
   "outputs": [],
   "source": [
    "def recursive_binary_search(array, item):\n",
    "    \n",
    "    # Base case\n",
    "    if len(array) == 0:\n",
    "        return \"Item not found\"\n",
    "    \n",
    "    # Recursive case\n",
    "    else:\n",
    "        mid = len(array)//2\n",
    "        \n",
    "        # if item = mid\n",
    "        if array[mid] == item:\n",
    "            return \"Item found\"\n",
    "        \n",
    "        else:\n",
    "            # if item < mid, recursive search with array elements < mid value \n",
    "            if item < array[mid]:\n",
    "                return recursive_binary_search(array[:mid], item)\n",
    "            else:\n",
    "                return recursive_binary_search(array[mid+1:], item)"
   ]
  },
  {
   "cell_type": "code",
   "execution_count": 4,
   "metadata": {},
   "outputs": [
    {
     "data": {
      "text/plain": [
       "'Item found'"
      ]
     },
     "execution_count": 4,
     "metadata": {},
     "output_type": "execute_result"
    }
   ],
   "source": [
    "array = [1,2,3,4,5,6,7,8,9,10]\n",
    "recursive_binary_search(array, 10)"
   ]
  },
  {
   "cell_type": "code",
   "execution_count": null,
   "metadata": {},
   "outputs": [],
   "source": []
  }
 ],
 "metadata": {
  "kernelspec": {
   "display_name": "Python 3",
   "language": "python",
   "name": "python3"
  },
  "language_info": {
   "codemirror_mode": {
    "name": "ipython",
    "version": 3
   },
   "file_extension": ".py",
   "mimetype": "text/x-python",
   "name": "python",
   "nbconvert_exporter": "python",
   "pygments_lexer": "ipython3",
   "version": "3.7.6"
  }
 },
 "nbformat": 4,
 "nbformat_minor": 4
}
