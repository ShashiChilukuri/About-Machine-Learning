{
 "cells": [
  {
   "cell_type": "markdown",
   "metadata": {},
   "source": [
    "## 21. Remove Element\n",
    "Given an array nums and a value val, remove all instances of that value in-place and return the new length.\n",
    "* Do not allocate extra space for another array, you must do this by modifying the input array in-place with O(1) extra memory.\n",
    "* The order of elements can be changed. It doesn't matter what you leave beyond the new length.\n",
    "* Ex: Input: nums = [3,2,2,3], val = 3 ====> Output: length 2 (nums = [2,2])\n",
    "* Ex: Input: nums = [0,1,2,2,3,0,4,2], val = 2   ======>    Output: 5 (nums = [0,1,4,0,3])"
   ]
  },
  {
   "cell_type": "code",
   "execution_count": 1,
   "metadata": {},
   "outputs": [],
   "source": [
    "# Solution1 to just  get the length of array after removing element\n",
    "def removeElement1(nums, val):\n",
    "    \"\"\"\n",
    "    :type nums: List[int]\n",
    "    :type val: int\n",
    "    :rtype: int\n",
    "    \"\"\"\n",
    "\n",
    "    if len(nums) == 0: return 0\n",
    "    \n",
    "    l = 0\n",
    "    for item in nums:\n",
    "        if item != val:\n",
    "            nums[l] = item\n",
    "            l += 1\n",
    "    return l"
   ]
  },
  {
   "cell_type": "code",
   "execution_count": 2,
   "metadata": {},
   "outputs": [],
   "source": [
    "# Solution2 to get length of array after removing element and also to get new array\n",
    "def removeElement2(nums, val):\n",
    "    \"\"\"\n",
    "    :type nums: List[int]\n",
    "    :type val: int\n",
    "    :rtype: int\n",
    "    \"\"\"\n",
    "\n",
    "    if len(nums) == 0: return 0\n",
    "\n",
    "    i = 0\n",
    "    while i in range(len(nums)):\n",
    "        if nums[i] == val:\n",
    "            nums.remove(nums[i])\n",
    "        else:\n",
    "            i = i+1\n",
    "    return len(nums)\n",
    "        "
   ]
  },
  {
   "cell_type": "code",
   "execution_count": 3,
   "metadata": {},
   "outputs": [],
   "source": [
    "#To test the solution\n",
    "from nose.tools import assert_equal\n",
    "class RemoveElementTest(object): \n",
    "    def test(self,sol):\n",
    "        assert_equal(sol([0,1,2,2,3,0,4,2],2),(5))\n",
    "        assert_equal(sol([4, 4, 1, 2, 3, 4, 4, 4, 4, 4,4,4,4,4],4),(3))\n",
    "        assert_equal(sol([3,2,2,3], 2),(2))\n",
    "        print('ALL TEST CASES PASSED')\n",
    "\n",
    "t = RemoveElementTest()"
   ]
  },
  {
   "cell_type": "code",
   "execution_count": 4,
   "metadata": {},
   "outputs": [
    {
     "name": "stdout",
     "output_type": "stream",
     "text": [
      "ALL TEST CASES PASSED\n"
     ]
    }
   ],
   "source": [
    "# Run tests for solution 1\n",
    "t.test(removeElement1)"
   ]
  },
  {
   "cell_type": "code",
   "execution_count": 5,
   "metadata": {},
   "outputs": [
    {
     "name": "stdout",
     "output_type": "stream",
     "text": [
      "ALL TEST CASES PASSED\n"
     ]
    }
   ],
   "source": [
    "# Run tests for solution 1\n",
    "t.test(removeElement2)"
   ]
  }
 ],
 "metadata": {
  "kernelspec": {
   "display_name": "Python 3",
   "language": "python",
   "name": "python3"
  },
  "language_info": {
   "codemirror_mode": {
    "name": "ipython",
    "version": 3
   },
   "file_extension": ".py",
   "mimetype": "text/x-python",
   "name": "python",
   "nbconvert_exporter": "python",
   "pygments_lexer": "ipython3",
   "version": "3.7.6"
  }
 },
 "nbformat": 4,
 "nbformat_minor": 4
}
