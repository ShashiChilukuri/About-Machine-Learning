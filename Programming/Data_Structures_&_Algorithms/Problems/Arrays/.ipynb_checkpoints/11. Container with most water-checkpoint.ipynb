{
 "cells": [
  {
   "cell_type": "markdown",
   "metadata": {},
   "source": [
    "## 11. Container with most water\n",
    "Given n non-negative integers a1, a2, ..., an , where each represents a point at coordinate (i, ai). n vertical lines are drawn such that the two endpoints of the line i is at (i, ai) and (i, 0). Find two lines, which, together with the x-axis forms a container, such that the container contains the most water.\n",
    "\n",
    "Notice that you may not slant the container.\n",
    "\n",
    "Ex: Input: height = [1,8,6,2,5,4,8,3,7] ===> Output: 49\n",
    "Ex: Input: height = [4,3,2,1,4] ==> Output: 16"
   ]
  },
  {
   "cell_type": "code",
   "execution_count": null,
   "metadata": {},
   "outputs": [],
   "source": [
    "# Solution\n",
    "def maxArea(height):\n",
    "    \"\"\"\n",
    "    :type height: List[int]\n",
    "    :rtype: int\n",
    "    \"\"\"\n",
    "    res = 0\n",
    "    i1 = 0 \n",
    "    i2 = len(height)-1\n",
    "\n",
    "    while i1 < i2:\n",
    "        h = min(height[i1],height[i2])\n",
    "        res = max(res,  h * (i2 - i1))\n",
    "        i1 = i1 + (height[i1] == h)\n",
    "        i2 = i2 - (height[i2] == h)\n",
    "    return res"
   ]
  },
  {
   "cell_type": "code",
   "execution_count": 1,
   "metadata": {},
   "outputs": [],
   "source": [
    "# Solution\n",
    "def maxArea(height):\n",
    "    \"\"\"\n",
    "    :type height: List[int]\n",
    "    :rtype: int\n",
    "    \"\"\"\n",
    "    res = 0\n",
    "    i1 = 0 \n",
    "    i2 = len(height)-1\n",
    "\n",
    "    while i1 < i2:\n",
    "        if height[i1]> height[i2]:\n",
    "            area = height[i2] * (i2-i1)\n",
    "            if area > res: res = area\n",
    "            i2 = i2 - 1\n",
    "        else:\n",
    "            area = height[i1] * (i2-i1)\n",
    "            if area > res: res = area\n",
    "            i1 = i1 + 1\n",
    "    return res"
   ]
  },
  {
   "cell_type": "code",
   "execution_count": 17,
   "metadata": {},
   "outputs": [
    {
     "name": "stdout",
     "output_type": "stream",
     "text": [
      "49\n"
     ]
    }
   ],
   "source": [
    "height = [1,8,6,2,5,4,8,3,7]\n",
    "res = 0\n",
    "i1 = 0 \n",
    "i2 = len(height)-1\n",
    "\n",
    "while i1 < i2:\n",
    "    if height[i1]> height[i2]:\n",
    "        area = height[i2] * (i2-i1)\n",
    "        if area > res: res = area\n",
    "        i2 = i2 - 1\n",
    "    else:\n",
    "        area = height[i1] * (i2-i1)\n",
    "        if area > res: res = area\n",
    "        i1 = i1 + 1\n",
    "print(res)"
   ]
  },
  {
   "cell_type": "code",
   "execution_count": 11,
   "metadata": {},
   "outputs": [
    {
     "name": "stdout",
     "output_type": "stream",
     "text": [
      "0 8\n",
      "1 8\n",
      "2 8\n",
      "3 8\n",
      "4 8\n",
      "5 8\n",
      "6 8\n",
      "7 8\n"
     ]
    }
   ],
   "source": [
    "i = 0\n",
    "j = 8\n",
    "while i < j:\n",
    "    print(i,j)\n",
    "    i = i + True\n",
    "    #i += 1"
   ]
  },
  {
   "cell_type": "code",
   "execution_count": null,
   "metadata": {},
   "outputs": [],
   "source": []
  }
 ],
 "metadata": {
  "kernelspec": {
   "display_name": "Python 3",
   "language": "python",
   "name": "python3"
  },
  "language_info": {
   "codemirror_mode": {
    "name": "ipython",
    "version": 3
   },
   "file_extension": ".py",
   "mimetype": "text/x-python",
   "name": "python",
   "nbconvert_exporter": "python",
   "pygments_lexer": "ipython3",
   "version": "3.7.6"
  }
 },
 "nbformat": 4,
 "nbformat_minor": 4
}
