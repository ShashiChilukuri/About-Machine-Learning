{
 "cells": [
  {
   "cell_type": "markdown",
   "metadata": {},
   "source": [
    "## 61. Rotate List\n",
    "\n",
    "Given the head of a linked list, rotate the list to the right by k places.\n",
    "Ex: Input: head = [1,2,3,4,5], k = 2 ====> Output: [4,5,1,2,3]\n",
    "Ex: Input: head = [0,1,2], k = 4 =====> Output: [2,0,1]"
   ]
  }
 ],
 "metadata": {
  "kernelspec": {
   "display_name": "Python 3",
   "language": "python",
   "name": "python3"
  },
  "language_info": {
   "codemirror_mode": {
    "name": "ipython",
    "version": 3
   },
   "file_extension": ".py",
   "mimetype": "text/x-python",
   "name": "python",
   "nbconvert_exporter": "python",
   "pygments_lexer": "ipython3",
   "version": "3.7.6"
  }
 },
 "nbformat": 4,
 "nbformat_minor": 4
}
