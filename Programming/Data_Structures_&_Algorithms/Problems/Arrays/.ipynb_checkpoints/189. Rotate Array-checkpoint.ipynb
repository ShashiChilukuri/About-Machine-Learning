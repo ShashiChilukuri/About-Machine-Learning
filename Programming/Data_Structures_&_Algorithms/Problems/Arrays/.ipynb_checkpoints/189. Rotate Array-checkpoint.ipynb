{
 "cells": [
  {
   "cell_type": "markdown",
   "metadata": {},
   "source": [
    "## 189. Rotate Array\n",
    "Given an array, rotate the array to the right by k steps, where k is non-negative. Could you do it in-place with O(1) extra space?\n",
    "\n",
    "* Ex: Input: nums = [1,2,3,4,5,6,7], k = 3 ===> Output: [5,6,7,1,2,3,4]\n",
    "* Ex: Input: nums = [-1,-100,3,99], k = 2 ==> Output: [3,99,-1,-100]"
   ]
  },
  {
   "cell_type": "code",
   "execution_count": 1,
   "metadata": {},
   "outputs": [],
   "source": [
    "#Solution 1\n",
    "def rotate1(nums, k):\n",
    "    \"\"\"\n",
    "    :type nums: List[int]\n",
    "    :type k: int\n",
    "    :rtype: None Do not return anything, modify nums in-place instead.\n",
    "    \"\"\"\n",
    "    if k == 0:\n",
    "        return nums\n",
    "    else:\n",
    "        for i in range(k):\n",
    "            nums.insert(0, nums.pop())\n",
    "    return nums\n",
    "\n",
    "# Insert is O(n) and Delete (pop) is O(n). \n",
    "# So the time complexity is O(k • n), less than the best solution which runs in O(n)."
   ]
  },
  {
   "cell_type": "code",
   "execution_count": 2,
   "metadata": {},
   "outputs": [],
   "source": [
    "# Solution 2\n",
    "def rotate2(nums, k):\n",
    "    \"\"\"\n",
    "    :type nums: List[int]\n",
    "    :type k: int\n",
    "    :rtype: None Do not return anything, modify nums in-place instead.\n",
    "    \"\"\"\n",
    "    copy = list(nums)\n",
    "    for ind in range(len(nums)):\n",
    "        nums[ind] = copy[ind-k]\n",
    "    return nums"
   ]
  },
  {
   "cell_type": "code",
   "execution_count": 3,
   "metadata": {},
   "outputs": [],
   "source": [
    "#To test the solution\n",
    "\n",
    "from nose.tools import assert_equal\n",
    "class rotateTest(object): \n",
    "    def test(self,sol):\n",
    "        assert_equal(sol([2,7,11,15],2),([11,15,2,7]))\n",
    "        assert_equal(sol([3,2,-4],2),([2,-4,3]))\n",
    "        assert_equal(sol([3,4], 1),([4,3]))\n",
    "        assert_equal(sol([1,2,3,4,5,6,7], 3),([5,6,7,1,2,3,4]))\n",
    "        assert_equal(sol([-1,-100,3,99], 2),([3,99,-1,-100]))\n",
    "        print('ALL TEST CASES PASSED')\n",
    "\n",
    "t = rotateTest()"
   ]
  },
  {
   "cell_type": "code",
   "execution_count": 4,
   "metadata": {},
   "outputs": [
    {
     "name": "stdout",
     "output_type": "stream",
     "text": [
      "ALL TEST CASES PASSED\n"
     ]
    }
   ],
   "source": [
    "# Run tests for solution 1\n",
    "t.test(rotate1)"
   ]
  },
  {
   "cell_type": "code",
   "execution_count": null,
   "metadata": {},
   "outputs": [],
   "source": []
  }
 ],
 "metadata": {
  "kernelspec": {
   "display_name": "Python 3",
   "language": "python",
   "name": "python3"
  },
  "language_info": {
   "codemirror_mode": {
    "name": "ipython",
    "version": 3
   },
   "file_extension": ".py",
   "mimetype": "text/x-python",
   "name": "python",
   "nbconvert_exporter": "python",
   "pygments_lexer": "ipython3",
   "version": "3.7.6"
  }
 },
 "nbformat": 4,
 "nbformat_minor": 4
}
