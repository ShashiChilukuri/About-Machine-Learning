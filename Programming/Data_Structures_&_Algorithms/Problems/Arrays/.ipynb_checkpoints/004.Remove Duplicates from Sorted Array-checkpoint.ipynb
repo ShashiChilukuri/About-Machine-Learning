{
 "cells": [
  {
   "cell_type": "markdown",
   "metadata": {},
   "source": [
    "## 004.Remove Duplicates from Sorted Array\n",
    "\n",
    "Given a sorted array nums, remove the duplicates in-place such that each element appears only once and returns the new length. NOTE: Do not allocate extra space for another array, you must do this by modifying the input array in-place with O(1) extra memory.\n",
    "\n",
    "Clarification: Confused why the returned value is an integer but your answer is an array? Note that the input array is passed in by reference, which means a modification to the input array will be known to the caller as well.\n",
    "\n",
    "Internally you can think of this:\n",
    "\n",
    "* // nums is passed in by reference. (i.e., without making a copy)\n",
    "* int len = removeDuplicates(nums);\n",
    "* // any modification to nums in your function would be known by the caller.\n",
    "* // using the length returned by your function, it prints the first len elements.\n",
    "* for (int i = 0; i < len; i++)\n",
    "    {print(nums[i]);}"
   ]
  },
  {
   "cell_type": "markdown",
   "metadata": {},
   "source": [
    "### Solution for Sorted array"
   ]
  },
  {
   "cell_type": "code",
   "execution_count": 1,
   "metadata": {},
   "outputs": [],
   "source": [
    "def removeDuplicates1(nums):\n",
    "    \"\"\"\n",
    "    :type nums: List[int]\n",
    "    :rtype: int\n",
    "    \"\"\"\n",
    "    if len(nums) == 0: \n",
    "        return 0\n",
    "    elif len(nums) == 1:\n",
    "        return 1\n",
    "    else:\n",
    "        length = 0\n",
    "        for i in range (1, len(nums)):\n",
    "            if nums[length] < nums[i]:\n",
    "                length  = length + 1\n",
    "                nums[length] = nums[i]\n",
    "    return length + 1"
   ]
  },
  {
   "cell_type": "markdown",
   "metadata": {},
   "source": [
    "### Solution for Unsorted array"
   ]
  },
  {
   "cell_type": "code",
   "execution_count": 2,
   "metadata": {},
   "outputs": [],
   "source": [
    "def removeDuplicates2(nums):\n",
    "    \"\"\"\n",
    "    :type nums: List[int]\n",
    "    :rtype: int\n",
    "    \"\"\"\n",
    "    if len(nums) == 0:\n",
    "        return 0\n",
    "    elif len(nums) == 1:\n",
    "        return 1\n",
    "    else:\n",
    "        i = 0\n",
    "        while i in range(len(nums)):\n",
    "            if nums[i] in nums[i+1:]:\n",
    "                nums.remove(nums[i])\n",
    "            else: \n",
    "                i = i+1\n",
    "    return len(nums)"
   ]
  },
  {
   "cell_type": "code",
   "execution_count": 3,
   "metadata": {},
   "outputs": [],
   "source": [
    "#To test the solution\n",
    "\n",
    "from nose.tools import assert_equal\n",
    "class removeDuplicatesTest(object): \n",
    "    def test(self,sol):\n",
    "        assert_equal(sol([]),0)\n",
    "        assert_equal(sol([1,1,2,3,3,3,4]),4)\n",
    "        assert_equal(sol([1,1,1,3]),2)\n",
    "        print('ALL TEST CASES PASSED')\n",
    "\n",
    "t = removeDuplicatesTest()"
   ]
  },
  {
   "cell_type": "code",
   "execution_count": 4,
   "metadata": {},
   "outputs": [
    {
     "name": "stdout",
     "output_type": "stream",
     "text": [
      "ALL TEST CASES PASSED\n"
     ]
    }
   ],
   "source": [
    "# Run tests for solution 1\n",
    "t.test(removeDuplicates1)"
   ]
  },
  {
   "cell_type": "code",
   "execution_count": 5,
   "metadata": {},
   "outputs": [
    {
     "name": "stdout",
     "output_type": "stream",
     "text": [
      "ALL TEST CASES PASSED\n"
     ]
    }
   ],
   "source": [
    "# Run tests for solution 2\n",
    "t.test(removeDuplicates2)"
   ]
  }
 ],
 "metadata": {
  "kernelspec": {
   "display_name": "Python 3",
   "language": "python",
   "name": "python3"
  },
  "language_info": {
   "codemirror_mode": {
    "name": "ipython",
    "version": 3
   },
   "file_extension": ".py",
   "mimetype": "text/x-python",
   "name": "python",
   "nbconvert_exporter": "python",
   "pygments_lexer": "ipython3",
   "version": "3.7.6"
  }
 },
 "nbformat": 4,
 "nbformat_minor": 4
}
