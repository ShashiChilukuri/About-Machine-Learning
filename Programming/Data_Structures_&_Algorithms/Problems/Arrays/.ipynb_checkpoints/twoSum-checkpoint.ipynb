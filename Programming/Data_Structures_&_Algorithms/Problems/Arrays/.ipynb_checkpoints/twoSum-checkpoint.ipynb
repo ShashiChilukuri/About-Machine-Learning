{
 "cells": [
  {
   "cell_type": "markdown",
   "metadata": {},
   "source": [
    "# twoSum\n",
    "\n",
    "Given an array of integers nums and an integer target, return indices of the two numbers such that they add up to target.\n",
    "\n",
    "You may assume that each input would have exactly one solution, and you may not use the same element twice.\n",
    "\n",
    "You can return the answer in any order."
   ]
  },
  {
   "cell_type": "code",
   "execution_count": 1,
   "metadata": {},
   "outputs": [],
   "source": [
    "# Solution1\n",
    "def twoSum1(nums, target):\n",
    "    \"\"\"\n",
    "    :type nums: List[int]\n",
    "    :type target: int\n",
    "    :rtype: List[int]\n",
    "    \"\"\"\n",
    "    if not nums:\n",
    "        return []\n",
    "    \n",
    "    found = {}\n",
    "    for i in range(len(nums)):\n",
    "        if target-nums[i] not in found:\n",
    "            found[nums[i]] = i\n",
    "        else: \n",
    "            return [found[target - nums[i]], i]\n",
    "    return[]"
   ]
  },
  {
   "cell_type": "code",
   "execution_count": 2,
   "metadata": {},
   "outputs": [],
   "source": [
    "# Solution2\n",
    "def twoSum2(nums, target):\n",
    "    \"\"\"\n",
    "    :type nums: List[int]\n",
    "    :type target: int\n",
    "    :rtype: List[int]\n",
    "    \"\"\"\n",
    "    if not nums:\n",
    "        return []\n",
    "    \n",
    "    for ind1 in range(len(nums)):\n",
    "        for ind2 in range(ind1+1, len(nums)):\n",
    "            if nums[ind1] + nums[ind2] == target:\n",
    "                return [ind1, ind2]"
   ]
  },
  {
   "cell_type": "code",
   "execution_count": 3,
   "metadata": {},
   "outputs": [],
   "source": [
    "# Solution3\n",
    "def twoSum3(nums, target):\n",
    "    \"\"\"\n",
    "    :type nums: List[int]\n",
    "    :type target: int\n",
    "    :rtype: List[int]\n",
    "    \"\"\"\n",
    "    if not nums:\n",
    "        return []\n",
    "    \n",
    "    found = {}\n",
    "    for ind1,val1 in enumerate(nums):\n",
    "        val2 = target - val1\n",
    "        \n",
    "        if val2 in found:\n",
    "            return [found[val2], ind1]\n",
    "            \n",
    "        found[val1] = ind1\n",
    "    return[]"
   ]
  },
  {
   "cell_type": "code",
   "execution_count": 4,
   "metadata": {},
   "outputs": [],
   "source": [
    "#To test the solution\n",
    "\n",
    "from nose.tools import assert_equal\n",
    "class twoSumTest(object): \n",
    "    def test(self,sol):\n",
    "        assert_equal(sol([2,7,11,15],9),([0,1]))\n",
    "        assert_equal(sol([3,2,4],6),([1,2]))\n",
    "        assert_equal(sol([3,3], 6),([0,1]))\n",
    "        print('ALL TEST CASES PASSED')\n",
    "\n",
    "t = twoSumTest()"
   ]
  },
  {
   "cell_type": "code",
   "execution_count": 5,
   "metadata": {},
   "outputs": [
    {
     "name": "stdout",
     "output_type": "stream",
     "text": [
      "ALL TEST CASES PASSED\n"
     ]
    }
   ],
   "source": [
    "# Run tests for solution 1\n",
    "t.test(twoSum1)"
   ]
  },
  {
   "cell_type": "code",
   "execution_count": 6,
   "metadata": {},
   "outputs": [
    {
     "name": "stdout",
     "output_type": "stream",
     "text": [
      "ALL TEST CASES PASSED\n"
     ]
    }
   ],
   "source": [
    "# Run tests for solution 2\n",
    "t.test(twoSum2)"
   ]
  },
  {
   "cell_type": "code",
   "execution_count": 7,
   "metadata": {},
   "outputs": [
    {
     "name": "stdout",
     "output_type": "stream",
     "text": [
      "ALL TEST CASES PASSED\n"
     ]
    }
   ],
   "source": [
    "# Run tests for solution 3\n",
    "t.test(twoSum3)"
   ]
  }
 ],
 "metadata": {
  "kernelspec": {
   "display_name": "Python 3",
   "language": "python",
   "name": "python3"
  },
  "language_info": {
   "codemirror_mode": {
    "name": "ipython",
    "version": 3
   },
   "file_extension": ".py",
   "mimetype": "text/x-python",
   "name": "python",
   "nbconvert_exporter": "python",
   "pygments_lexer": "ipython3",
   "version": "3.7.6"
  }
 },
 "nbformat": 4,
 "nbformat_minor": 4
}
