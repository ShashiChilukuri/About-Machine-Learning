{
 "cells": [
  {
   "cell_type": "markdown",
   "metadata": {},
   "source": [
    "## 015. 3sum\n",
    "\n",
    "Given an array nums of n integers, are there elements a, b, c in nums such that a + b + c = 0? Find all unique triplets in the array which gives the sum of zero.Notice that the solution set must not contain duplicate triplets.\n",
    "* Ex1: Input: nums = [-1,0,1,2,-1,-4]    ============> Output: [[-1,-1,2],[-1,0,1]]\n",
    "* Ex2: Input: nums = [] =============> Output: []\n",
    "* Ex3: Input: nums = [0] ==============> Output: []"
   ]
  },
  {
   "cell_type": "code",
   "execution_count": 64,
   "metadata": {},
   "outputs": [],
   "source": [
    "def threeSum(nums):\n",
    "    \"\"\"\n",
    "    :type nums: List[int]\n",
    "    :rtype: List[List[int]]\n",
    "    \"\"\"\n",
    "    if len(nums) == 0: return []\n",
    "    if len(nums) == 1 and nums[0] == 0: return []   \n",
    "    dups = set()\n",
    "    res = set()\n",
    "    found = {}\n",
    "\n",
    "    for i in range(len(nums)):\n",
    "        if nums[i] not in dups:\n",
    "            dups.add(nums[i])\n",
    "            for j in range(i+1,len(nums)):\n",
    "                if -(nums[i]+nums[j]) in found and found[-(nums[i]+nums[j])] == i:\n",
    "                    res.add(tuple(sorted((nums[i],nums[j],-(nums[i]+nums[j]))))) \n",
    "                else: found[nums[j]] = i    \n",
    "\n",
    "    return res"
   ]
  },
  {
   "cell_type": "code",
   "execution_count": 66,
   "metadata": {},
   "outputs": [
    {
     "data": {
      "text/plain": [
       "{(-1, -1, 2), (-1, 0, 1)}"
      ]
     },
     "execution_count": 66,
     "metadata": {},
     "output_type": "execute_result"
    }
   ],
   "source": [
    "nums = [-1,0,1,2,-1,-4] \n",
    "threeSum(nums)"
   ]
  }
 ],
 "metadata": {
  "kernelspec": {
   "display_name": "Python 3",
   "language": "python",
   "name": "python3"
  },
  "language_info": {
   "codemirror_mode": {
    "name": "ipython",
    "version": 3
   },
   "file_extension": ".py",
   "mimetype": "text/x-python",
   "name": "python",
   "nbconvert_exporter": "python",
   "pygments_lexer": "ipython3",
   "version": "3.7.6"
  }
 },
 "nbformat": 4,
 "nbformat_minor": 4
}
