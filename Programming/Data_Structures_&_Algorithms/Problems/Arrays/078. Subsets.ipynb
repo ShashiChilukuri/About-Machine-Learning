{
 "cells": [
  {
   "cell_type": "markdown",
   "metadata": {},
   "source": [
    "## 078. Subsets\n",
    "Given an integer array nums of unique elements, return all possible subsets (the power set). The solution set must not contain duplicate subsets. Return the solution in any order.\n",
    "\n",
    "* Ex1: Input: nums = [1,2,3] ====> Output: [[],[1],[2],[1,2],[3],[1,3],[2,3],[1,2,3]]\n",
    "* Ex2: Input: nums = [0] ====> Output: [[],[0]]"
   ]
  },
  {
   "cell_type": "code",
   "execution_count": 1,
   "metadata": {},
   "outputs": [],
   "source": [
    "# Solution 1\n",
    "def subsets(nums):\n",
    "    \"\"\"\n",
    "    :type nums: List[int]\n",
    "    :rtype: List[List[int]]\n",
    "    \"\"\"\n",
    "    output = [[]]\n",
    "    for num in nums:\n",
    "        for element in output:\n",
    "            output = output + [element + [num]]\n",
    "    return output"
   ]
  },
  {
   "cell_type": "code",
   "execution_count": 2,
   "metadata": {},
   "outputs": [],
   "source": [
    "def subsets(nums):\n",
    "    \"\"\"\n",
    "    :type nums: List[int]\n",
    "    :rtype: List[List[int]]\n",
    "    \"\"\"\n",
    "    output = [[]]\n",
    "    for num in nums:\n",
    "        output = output + [element + [num] for element in output]\n",
    "    return output"
   ]
  },
  {
   "cell_type": "code",
   "execution_count": 3,
   "metadata": {},
   "outputs": [],
   "source": [
    "#To test the solution\n",
    "\n",
    "from nose.tools import assert_equal\n",
    "class subsetsTest(object): \n",
    "    def test(self,sol):\n",
    "        assert_equal(sol([0]),([[],[0]]))\n",
    "        assert_equal(sol([1,2,3]),([[],[1],[2],[1,2],[3],[1,3],[2,3],[1,2,3]]))\n",
    "        print('ALL TEST CASES PASSED')\n",
    "\n",
    "t = subsetsTest()"
   ]
  },
  {
   "cell_type": "code",
   "execution_count": 4,
   "metadata": {},
   "outputs": [
    {
     "name": "stdout",
     "output_type": "stream",
     "text": [
      "ALL TEST CASES PASSED\n"
     ]
    }
   ],
   "source": [
    "t.test(subsets)"
   ]
  },
  {
   "cell_type": "code",
   "execution_count": null,
   "metadata": {},
   "outputs": [],
   "source": []
  },
  {
   "cell_type": "code",
   "execution_count": 8,
   "metadata": {},
   "outputs": [],
   "source": [
    "import numpy as np\n",
    "v1 = np.array([1,4,2,np.nan,3])\n",
    "v2 = np.array([np.nan,np.nan,2,4,1])\n",
    "\n",
    "v1_m = np.ma.array(v1, mask=np.isnan(v1))\n",
    "v2_m = np.ma.array(v2, mask=np.isnan(v2))\n",
    "\n",
    "#numpy.ma.dot(v1_m, v2_m)"
   ]
  },
  {
   "cell_type": "code",
   "execution_count": 9,
   "metadata": {},
   "outputs": [
    {
     "data": {
      "text/plain": [
       "array([ 1.,  4.,  2., nan,  3.])"
      ]
     },
     "execution_count": 9,
     "metadata": {},
     "output_type": "execute_result"
    }
   ],
   "source": [
    "v1"
   ]
  },
  {
   "cell_type": "code",
   "execution_count": 10,
   "metadata": {},
   "outputs": [
    {
     "data": {
      "text/plain": [
       "masked_array(data=[1.0, 4.0, 2.0, --, 3.0],\n",
       "             mask=[False, False, False,  True, False],\n",
       "       fill_value=1e+20)"
      ]
     },
     "execution_count": 10,
     "metadata": {},
     "output_type": "execute_result"
    }
   ],
   "source": [
    "v1_m"
   ]
  },
  {
   "cell_type": "code",
   "execution_count": null,
   "metadata": {},
   "outputs": [],
   "source": []
  }
 ],
 "metadata": {
  "kernelspec": {
   "display_name": "Python 3",
   "language": "python",
   "name": "python3"
  },
  "language_info": {
   "codemirror_mode": {
    "name": "ipython",
    "version": 3
   },
   "file_extension": ".py",
   "mimetype": "text/x-python",
   "name": "python",
   "nbconvert_exporter": "python",
   "pygments_lexer": "ipython3",
   "version": "3.7.6"
  }
 },
 "nbformat": 4,
 "nbformat_minor": 4
}
