{
 "cells": [
  {
   "cell_type": "markdown",
   "metadata": {},
   "source": [
    "## 003.Median of Two Sorted Arrays\n",
    "\n",
    "Given two sorted arrays nums1 and nums2 of size m and n respectively, return the median of the two sorted arrays.\n",
    "\n",
    " \n",
    "\n",
    "Example 1:\n",
    "\n",
    "Input: nums1 = [1,3], nums2 = [2]\n",
    "Output: 2.00000\n",
    "Explanation: merged array = [1,2,3] and median is 2.\n",
    "\n",
    "Example 2:\n",
    "\n",
    "Input: nums1 = [1,2], nums2 = [3,4]\n",
    "Output: 2.50000\n",
    "Explanation: merged array = [1,2,3,4] and median is (2 + 3) / 2 = 2.5.\n",
    "\n",
    "Example 3:\n",
    "\n",
    "Input: nums1 = [0,0], nums2 = [0,0]\n",
    "Output: 0.00000\n",
    "\n",
    "Example 4:\n",
    "\n",
    "Input: nums1 = [], nums2 = [1]\n",
    "Output: 1.00000\n",
    "\n",
    "Example 5:\n",
    "\n",
    "Input: nums1 = [2], nums2 = []\n",
    "Output: 2.00000\n",
    "\n",
    "Leetcode link: https://leetcode.com/problems/median-of-two-sorted-arrays/"
   ]
  },
  {
   "cell_type": "markdown",
   "metadata": {},
   "source": [
    "### Solution without Sorting \n",
    "\n",
    "* % : Reminder\n",
    "* // : Just the integer, does take decimal place"
   ]
  },
  {
   "cell_type": "code",
   "execution_count": null,
   "metadata": {},
   "outputs": [],
   "source": [
    "def findMedianSortedArrays(self, nums1, nums2):\n",
    "    l = len(nums1)+ len(nums2)\n",
    "    if l % 2 == 0:\n",
    "        return (self.kth(nums1, nums2, l/2) + self.kth(nums1, nums2, l//2 - 1))/2.0\n",
    "    \n",
    "def kth(self, num1, num2, k):\n",
    "    if not num1:\n",
    "        return num2[k]\n",
    "    \n",
    "    if not num2:\n",
    "        return num1[k]\n",
    "    \n",
    "    inum1, inum2 = len(num1)//2 , len(num2)//2\n",
    "    midNum1, midNum2 =num1[inum1], num2[inum2]\n",
    "    \n",
    "    # when k is bigger than the sum of num1 and num2's mid indices\n",
    "    \n",
    "    if inum1 + inum2 < k:\n",
    "        # if num1's mid is bigger than num2's and num2's first half doesn't include k\n",
    "        if midNum1 > midNun2:\n",
    "            return self.kth(num1, )\n",
    "    \n",
    "    \n",
    "        \n",
    "    "
   ]
  },
  {
   "cell_type": "raw",
   "metadata": {},
   "source": [
    "def findMedianSortedArrays(self, A, B):\n",
    "    l = len(A) + len(B)\n",
    "    if l % 2 == 1:\n",
    "        return self.kth(A, B, l // 2)\n",
    "    else:\n",
    "        return (self.kth(A, B, l // 2) + self.kth(A, B, l // 2 - 1)) / 2.   \n",
    "    \n",
    "def kth(self, a, b, k):\n",
    "    if not a:\n",
    "        return b[k]\n",
    "    if not b:\n",
    "        return a[k]\n",
    "    ia, ib = len(a) // 2 , len(b) // 2\n",
    "    ma, mb = a[ia], b[ib]\n",
    "    \n",
    "    # when k is bigger than the sum of a and b's median indices \n",
    "    if ia + ib < k:\n",
    "        # if a's median is bigger than b's, b's first half doesn't include k\n",
    "        if ma > mb:\n",
    "            return self.kth(a, b[ib + 1:], k - ib - 1)\n",
    "        else:\n",
    "            return self.kth(a[ia + 1:], b, k - ia - 1)\n",
    "    # when k is smaller than the sum of a and b's indices\n",
    "    else:\n",
    "        # if a's median is bigger than b's, a's second half doesn't include k\n",
    "        if ma > mb:\n",
    "            return self.kth(a[:ia], b, k)\n",
    "        else:\n",
    "            return self.kth(a, b[:ib], k)"
   ]
  },
  {
   "cell_type": "markdown",
   "metadata": {},
   "source": [
    "### Solution with Sorting "
   ]
  },
  {
   "cell_type": "code",
   "execution_count": 100,
   "metadata": {},
   "outputs": [],
   "source": [
    "def findMedianArrays(nums1, nums2):\n",
    "    \"\"\"\n",
    "    :type nums1: List[int]\n",
    "    :type nums2: List[int]\n",
    "    :rtype: float\n",
    "    \"\"\"\n",
    "    arr = nums1 + nums2\n",
    "    arr.sort()\n",
    "    l =len(arr)\n",
    "\n",
    "    if l == 0:\n",
    "        return 0.000\n",
    "    elif l == 1:\n",
    "        return arr[0]\n",
    "\n",
    "    elif l == 2:\n",
    "        return (arr[0]+arr[1])/2.0\n",
    "\n",
    "    elif l % 2 and l > 2 == 0:\n",
    "        return (arr[l//2 - 1] + arr[l//2])/2.0   #In case of even (1%2 == 0)\n",
    "    else:\n",
    "        return arr[l//2]   #In case of odd (l%2 == 1)"
   ]
  },
  {
   "cell_type": "code",
   "execution_count": null,
   "metadata": {},
   "outputs": [],
   "source": []
  },
  {
   "cell_type": "code",
   "execution_count": 98,
   "metadata": {},
   "outputs": [],
   "source": [
    "#To test the solution\n",
    "\n",
    "from nose.tools import assert_equal\n",
    "class findMedianArraysTest(object): \n",
    "    def test(self,sol):\n",
    "        assert_equal(sol([1,3],[2]),2.0 )\n",
    "        assert_equal(sol([1,2],[3,4]),2.5)\n",
    "        assert_equal(sol([0,0], [0,0]),0.0)\n",
    "        assert_equal(sol([1],[]),1.0)\n",
    "        assert_equal(sol([], [2]),2.0)\n",
    "        assert_equal(sol([0], [2]),1.0)\n",
    "        print('ALL TEST CASES PASSED')\n",
    "\n",
    "t = findMedianArraysTest()"
   ]
  },
  {
   "cell_type": "code",
   "execution_count": 99,
   "metadata": {},
   "outputs": [
    {
     "name": "stdout",
     "output_type": "stream",
     "text": [
      "ALL TEST CASES PASSED\n"
     ]
    }
   ],
   "source": [
    "t.test(findMedianArrays)"
   ]
  },
  {
   "cell_type": "code",
   "execution_count": 16,
   "metadata": {},
   "outputs": [
    {
     "name": "stdout",
     "output_type": "stream",
     "text": [
      "[1, 2, 3, 4]\n"
     ]
    }
   ],
   "source": [
    "numbers = [1, 3, 4, 2]\n",
    "numbers.sort()\n",
    "print(numbers)"
   ]
  },
  {
   "cell_type": "code",
   "execution_count": 43,
   "metadata": {},
   "outputs": [
    {
     "data": {
      "text/plain": [
       "0"
      ]
     },
     "execution_count": 43,
     "metadata": {},
     "output_type": "execute_result"
    }
   ],
   "source": [
    "len(arr) % 2"
   ]
  },
  {
   "cell_type": "code",
   "execution_count": 44,
   "metadata": {},
   "outputs": [
    {
     "data": {
      "text/plain": [
       "1"
      ]
     },
     "execution_count": 44,
     "metadata": {},
     "output_type": "execute_result"
    }
   ],
   "source": [
    "3//2"
   ]
  },
  {
   "cell_type": "code",
   "execution_count": 45,
   "metadata": {},
   "outputs": [
    {
     "data": {
      "text/plain": [
       "1"
      ]
     },
     "execution_count": 45,
     "metadata": {},
     "output_type": "execute_result"
    }
   ],
   "source": [
    "3%2"
   ]
  },
  {
   "cell_type": "code",
   "execution_count": 49,
   "metadata": {},
   "outputs": [
    {
     "data": {
      "text/plain": [
       "2.5"
      ]
     },
     "execution_count": 49,
     "metadata": {},
     "output_type": "execute_result"
    }
   ],
   "source": [
    "(3+2)/2"
   ]
  },
  {
   "cell_type": "code",
   "execution_count": 56,
   "metadata": {},
   "outputs": [
    {
     "data": {
      "text/plain": [
       "4"
      ]
     },
     "execution_count": 56,
     "metadata": {},
     "output_type": "execute_result"
    }
   ],
   "source": [
    "arr[(4//2)+1]"
   ]
  },
  {
   "cell_type": "code",
   "execution_count": 54,
   "metadata": {},
   "outputs": [
    {
     "data": {
      "text/plain": [
       "2"
      ]
     },
     "execution_count": 54,
     "metadata": {},
     "output_type": "execute_result"
    }
   ],
   "source": [
    "[1,3]\n",
    "[2]\n",
    "\n",
    "[1,2]\n",
    "[3,4]\n",
    "\n",
    "[0,0]\n",
    "[0,0]\n",
    "\n",
    "[]\n",
    "[1]\n",
    "\n",
    "[2]\n",
    "[]"
   ]
  },
  {
   "cell_type": "code",
   "execution_count": 84,
   "metadata": {},
   "outputs": [],
   "source": [
    "nums1 = [1,2]\n",
    "nums2 = [3,4]\n",
    "\n",
    "def findMedianArrays(nums1, nums2):\n",
    "    arr = nums1 + nums2\n",
    "    arr.sort()\n",
    "    l =len(arr)\n",
    "\n",
    "    if l == 0:\n",
    "        return 0.000\n",
    "    elif l == 1:\n",
    "        return arr[0]\n",
    "\n",
    "    elif l == 2:\n",
    "        return (arr[0]+arr[1])/2.0\n",
    "\n",
    "    elif l % 2 == 0:\n",
    "        return (arr[l//2 - 1] + arr[l//2])/2.0\n",
    "    else:\n",
    "        return arr[l//2]"
   ]
  },
  {
   "cell_type": "code",
   "execution_count": 87,
   "metadata": {},
   "outputs": [
    {
     "data": {
      "text/plain": [
       "2.5"
      ]
     },
     "execution_count": 87,
     "metadata": {},
     "output_type": "execute_result"
    }
   ],
   "source": [
    "findMedianSortedArrays([], [2,3])\n",
    "\n"
   ]
  },
  {
   "cell_type": "code",
   "execution_count": 69,
   "metadata": {},
   "outputs": [
    {
     "data": {
      "text/plain": [
       "1"
      ]
     },
     "execution_count": 69,
     "metadata": {},
     "output_type": "execute_result"
    }
   ],
   "source": [
    "def findMedianArrays(nums1, nums2):\n",
    "    arr = nums1 + nums2\n",
    "\n",
    "    l =len(arr)\n",
    "\n",
    "    if l == 0:\n",
    "        return 0.000\n",
    "    elif l == 1:\n",
    "        return arr[0]\n",
    "\n",
    "    elif l == 2:\n",
    "        return (arr[0]+arr[1])/2\n",
    "\n",
    "    elif l % 2 == 0:\n",
    "        return (arr[l//2 - 1] + arr[l//2])/2\n",
    "    else:\n",
    "        return arr[l//2]"
   ]
  },
  {
   "cell_type": "code",
   "execution_count": 73,
   "metadata": {},
   "outputs": [
    {
     "data": {
      "text/plain": [
       "2.5"
      ]
     },
     "execution_count": 73,
     "metadata": {},
     "output_type": "execute_result"
    }
   ],
   "source": [
    "(2+3)/2"
   ]
  },
  {
   "cell_type": "code",
   "execution_count": null,
   "metadata": {},
   "outputs": [],
   "source": [
    "    def findMedianSortedArrays(self, nums1: List[int], nums2: List[int]) -> float:\n",
    "        mas = []\n",
    "        res = 0.00000\n",
    "        mas.extend(nums1)\n",
    "        mas.extend(nums2)\n",
    "        mas.sort()\n",
    "        if len(mas) == 0:\n",
    "            return 0.00000\n",
    "        elif len(mas) == 1:\n",
    "            return mas[0]\n",
    "        elif len(mas) == 2:\n",
    "            return (mas[0]+mas[1])/2\n",
    "        \n",
    "        if len(mas)%2 == 0 and len(mas) > 3:\n",
    "            i = mas[int((len(mas)/2))-1] + mas[int(len(mas)/2)]\n",
    "            res = float(i/2)\n",
    "        else:\n",
    "            res = float(mas[int(len(mas)/2)])\n",
    "        return res"
   ]
  }
 ],
 "metadata": {
  "kernelspec": {
   "display_name": "Python 3",
   "language": "python",
   "name": "python3"
  },
  "language_info": {
   "codemirror_mode": {
    "name": "ipython",
    "version": 3
   },
   "file_extension": ".py",
   "mimetype": "text/x-python",
   "name": "python",
   "nbconvert_exporter": "python",
   "pygments_lexer": "ipython3",
   "version": "3.7.6"
  }
 },
 "nbformat": 4,
 "nbformat_minor": 4
}
