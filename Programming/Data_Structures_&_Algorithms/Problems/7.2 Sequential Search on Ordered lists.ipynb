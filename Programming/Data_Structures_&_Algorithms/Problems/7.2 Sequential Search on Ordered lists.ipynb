{
 "cells": [
  {
   "cell_type": "markdown",
   "metadata": {},
   "source": [
    "# Sequential Search on ordered list\n",
    "\n",
    "## Problem\n",
    "\n",
    "Given ordered list, implement sequential search. "
   ]
  },
  {
   "cell_type": "code",
   "execution_count": 1,
   "metadata": {},
   "outputs": [],
   "source": [
    "def ordered_seq_search(array,item):\n",
    "    \"\"\"\n",
    "    Sequential search for an Ordered list\n",
    "    \"\"\"\n",
    "    position = 0 # Start at position 0\n",
    "    found = False # Becomes True if item is in the list\n",
    "    stopped = False # will stop searching if the item is greater than searched item\n",
    "\n",
    "    # Check until found or stopped \n",
    "    while position < len(array) and not found and not stopped:\n",
    "        \n",
    "        # Check if match\n",
    "        if array[position] == item:\n",
    "            found = True\n",
    "            \n",
    "        else:\n",
    "            # Check if element is greater\n",
    "            if array[position] > item:\n",
    "                stopped = True\n",
    "                \n",
    "            # Otherwise move on\n",
    "            else:\n",
    "                position  = position + 1\n",
    "    \n",
    "    return found"
   ]
  },
  {
   "cell_type": "code",
   "execution_count": 3,
   "metadata": {},
   "outputs": [
    {
     "data": {
      "text/plain": [
       "True"
      ]
     },
     "execution_count": 3,
     "metadata": {},
     "output_type": "execute_result"
    }
   ],
   "source": [
    "array = [2,5,7,9,10]\n",
    "ordered_seq_search(array, 10)"
   ]
  },
  {
   "cell_type": "code",
   "execution_count": null,
   "metadata": {},
   "outputs": [],
   "source": []
  }
 ],
 "metadata": {
  "kernelspec": {
   "display_name": "Python 3",
   "language": "python",
   "name": "python3"
  },
  "language_info": {
   "codemirror_mode": {
    "name": "ipython",
    "version": 3
   },
   "file_extension": ".py",
   "mimetype": "text/x-python",
   "name": "python",
   "nbconvert_exporter": "python",
   "pygments_lexer": "ipython3",
   "version": "3.7.6"
  }
 },
 "nbformat": 4,
 "nbformat_minor": 4
}
