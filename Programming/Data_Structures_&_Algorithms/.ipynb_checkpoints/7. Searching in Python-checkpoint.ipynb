{
 "cells": [
  {
   "cell_type": "markdown",
   "metadata": {},
   "source": [
    "## \"in\" Operator\n",
    "- In python, we can use in operator to search elements in a list\n",
    "- It will results is True/False"
   ]
  },
  {
   "cell_type": "code",
   "execution_count": 2,
   "metadata": {},
   "outputs": [
    {
     "data": {
      "text/plain": [
       "True"
      ]
     },
     "execution_count": 2,
     "metadata": {},
     "output_type": "execute_result"
    }
   ],
   "source": [
    "even_list = [2,4,6,8,10,12]\n",
    "10 in even_list"
   ]
  },
  {
   "cell_type": "code",
   "execution_count": 3,
   "metadata": {},
   "outputs": [
    {
     "data": {
      "text/plain": [
       "False"
      ]
     },
     "execution_count": 3,
     "metadata": {},
     "output_type": "execute_result"
    }
   ],
   "source": [
    "3 in [0,1,2,4,5]"
   ]
  },
  {
   "cell_type": "markdown",
   "metadata": {},
   "source": [
    "## Sequential Search\n",
    "- Here we sequentially go through the data strucutre and compare with each element untile we either find the element or go through entire list.\n",
    "- In the unordered list, here is the time complexity:\n",
    "\n",
    "|Scenario            |Best case      | Worst Case    |Avg Case    | \n",
    "|--------------------|---------------|---------------|------------|\n",
    "|Item in the list    |1              |n              |n/2         |\n",
    "|Item is not in list |n              |n              |n           |\n",
    "\n",
    "- In the orderded list, here is the time complexit:\n",
    "\n",
    "|Scenario            |Best case      | Worst Case    |Avg Case    | \n",
    "|--------------------|---------------|---------------|------------|\n",
    "|Item in the list    |1              |n              |n/2         |\n",
    "|Item is not in list |1              |n              |n/2         |"
   ]
  },
  {
   "cell_type": "markdown",
   "metadata": {},
   "source": [
    "### Implementation of Sequential Search on Unordered lists"
   ]
  },
  {
   "cell_type": "code",
   "execution_count": null,
   "metadata": {},
   "outputs": [],
   "source": []
  }
 ],
 "metadata": {
  "kernelspec": {
   "display_name": "Python 3",
   "language": "python",
   "name": "python3"
  },
  "language_info": {
   "codemirror_mode": {
    "name": "ipython",
    "version": 3
   },
   "file_extension": ".py",
   "mimetype": "text/x-python",
   "name": "python",
   "nbconvert_exporter": "python",
   "pygments_lexer": "ipython3",
   "version": "3.7.6"
  }
 },
 "nbformat": 4,
 "nbformat_minor": 4
}
