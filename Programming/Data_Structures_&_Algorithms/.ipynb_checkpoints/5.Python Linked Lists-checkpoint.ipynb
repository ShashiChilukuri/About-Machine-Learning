{
 "cells": [
  {
   "cell_type": "markdown",
   "metadata": {},
   "source": [
    "## Singly Linked List\n",
    "- It is collection of nodes that forms a linear sequence\n",
    "- Each node stores a object reference that is an element in the sequence. Also, stores reference to the next node of the list.\n",
    "- Ex: <img src= 'https://upload.wikimedia.org/wikipedia/commons/6/6d/Singly-linked-list.svg'/>\n",
    "- First node of the list is called HEAD (12) and last node (37) in the list is called TAIL (This node points to *NONE*)\n",
    "- Processing of going though nodes is said to be TRAVERSING (or link hopping or pointer hopping)\n",
    "- Important property: **It does not have a predetermined fixed size**\n",
    "- To insert a new element at the head of the list:\n",
    "    - Create a new node\n",
    "    - *Set its element to the new element*\n",
    "    - Set its new link to refer to the current head\n",
    "    - Set the list's head to point to the new node\n",
    "- To inset a new element at the tail of the list:\n",
    "    - Create a new node\n",
    "    - *Assign its next reference to None*\n",
    "    - Set the next reference of the tail to point to this new node\n",
    "    - Update the tail reference itself to the new node\n",
    "- To remove an element from the head of the list:\n",
    "    - Reverse of insert\n",
    "- Removing the element from singly linked list is not easy. To operate efficiently, better to use doubly linked list.\n",
    "\n",
    "### Implementation"
   ]
  },
  {
   "cell_type": "code",
   "execution_count": 1,
   "metadata": {},
   "outputs": [],
   "source": [
    "class Node(object):\n",
    "    def __init__(self, value):\n",
    "        self.value = value\n",
    "        self.nextnode = None  "
   ]
  },
  {
   "cell_type": "code",
   "execution_count": 2,
   "metadata": {},
   "outputs": [],
   "source": [
    "a = Node(1)\n",
    "b = Node(2)\n",
    "c = Node(3)"
   ]
  },
  {
   "cell_type": "code",
   "execution_count": 3,
   "metadata": {},
   "outputs": [],
   "source": [
    "a.nextnode = b\n",
    "b.nextnode = c"
   ]
  },
  {
   "cell_type": "code",
   "execution_count": 4,
   "metadata": {},
   "outputs": [
    {
     "data": {
      "text/plain": [
       "1"
      ]
     },
     "execution_count": 4,
     "metadata": {},
     "output_type": "execute_result"
    }
   ],
   "source": [
    "a.value"
   ]
  },
  {
   "cell_type": "code",
   "execution_count": 5,
   "metadata": {},
   "outputs": [
    {
     "data": {
      "text/plain": [
       "2"
      ]
     },
     "execution_count": 5,
     "metadata": {},
     "output_type": "execute_result"
    }
   ],
   "source": [
    "a.nextnode.value"
   ]
  },
  {
   "cell_type": "markdown",
   "metadata": {},
   "source": [
    "### Pros\n",
    "* Linked Lists take O(1) time to insert or delete in any position, whereas arrays require O(n) time.\n",
    "* Linked lists can continue to expand without having to specify their size ahead of time \n",
    "\n",
    "### Cons\n",
    "* To access an element in a linked list, you need to take O(k) time to go from the head of the list to the kth element. In contrast, arrays have O(1) time operations to access elements in an array."
   ]
  },
  {
   "cell_type": "markdown",
   "metadata": {},
   "source": [
    "## Doubly Linked List\n",
    "- In this, each node keeps an explict reference to the node before and after it\n",
    "- It has **dummy nodes known as Sentinels (or guards)** at both ends of the list.\n",
    "    - A HEADER node at the begining of the list\n",
    "    - A TRAILER node at the end of the list\n",
    "- Ex: <img src= 'https://upload.wikimedia.org/wikipedia/commons/5/5e/Doubly-linked-list.svg'/>\n",
    "- Every insertion into doubly linked list will take place between a pair of existing nodes\n",
    "- For example, to insert an element in the front of sequence: add node between header and the next\n",
    "\n",
    "### Implementation"
   ]
  },
  {
   "cell_type": "code",
   "execution_count": 6,
   "metadata": {},
   "outputs": [],
   "source": [
    "class DLLNode(object):\n",
    "    def __init__(self,value):\n",
    "        self.value = value\n",
    "        self.next_node = None\n",
    "        self.prev_node = None"
   ]
  },
  {
   "cell_type": "code",
   "execution_count": 7,
   "metadata": {},
   "outputs": [],
   "source": [
    "a = DLLNode(1)\n",
    "b = DLLNode(2)\n",
    "c = DLLNode(3)"
   ]
  },
  {
   "cell_type": "code",
   "execution_count": 8,
   "metadata": {},
   "outputs": [],
   "source": [
    "a.next_node = b\n",
    "b.prev_node = a\n",
    "\n",
    "b.next_node = c\n",
    "c.prev_node = b\n",
    "\n",
    "# To make it to circular linked list, add as below\n",
    "# c.next_node = a\n",
    "# a.prev_node = c"
   ]
  },
  {
   "cell_type": "markdown",
   "metadata": {},
   "source": [
    " ### Pro's\n",
    " - Takes O(1) for both insertion and deletion (update operation)"
   ]
  },
  {
   "cell_type": "code",
   "execution_count": null,
   "metadata": {},
   "outputs": [],
   "source": []
  }
 ],
 "metadata": {
  "kernelspec": {
   "display_name": "Python 3",
   "language": "python",
   "name": "python3"
  },
  "language_info": {
   "codemirror_mode": {
    "name": "ipython",
    "version": 3
   },
   "file_extension": ".py",
   "mimetype": "text/x-python",
   "name": "python",
   "nbconvert_exporter": "python",
   "pygments_lexer": "ipython3",
   "version": "3.7.6"
  }
 },
 "nbformat": 4,
 "nbformat_minor": 4
}
