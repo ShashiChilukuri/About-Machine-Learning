{
 "cells": [
  {
   "cell_type": "markdown",
   "metadata": {},
   "source": [
    "Python has 3 main sequences classes. All of them support indexing(ex: t[0] =1)\n",
    "- List: [1,2,3]\n",
    "- Tuple: (1,2,3)\n",
    "- String: '123'\n",
    "\n",
    "\n",
    "## Low-level computer architecture\n",
    "- Python internally represents each Unicode character with 16 bits (i.e, 2 bytes)\n",
    "- Ex: str = \"SAMPLE\"\n",
    "- <img src='img/unicode.PNG'/> \n",
    "- Each cell of an array uses the same number of bytes \n",
    "- Allows any cell to be accesses in constant time\n",
    "- To calculate memory address = Start + Cell size x Index \n",
    "- For eaxample to find the memory address of 'L' in 'SAMPLE' string: 2146 + 2 x 4 = 2146 + 8 = 2154\n",
    "\n",
    "## Referential Arrays\n",
    "To avoid wasting spaces when storing an array, Python represents a list (or tuple) instance using an internal storage mechanism of an array of object references. A list object can have mulitple references i.e, single object can be an element of many lists. \n",
    "\n",
    "<img src='img/referential_arrays.PNG'/>"
   ]
  },
  {
   "cell_type": "code",
   "execution_count": 13,
   "metadata": {},
   "outputs": [
    {
     "data": {
      "text/plain": [
       "[2, 3, 5, 7, 11, 13, 17, 19]"
      ]
     },
     "execution_count": 13,
     "metadata": {},
     "output_type": "execute_result"
    }
   ],
   "source": [
    "primes =[2,3,5,7,11,13,17,19]\n",
    "primes"
   ]
  },
  {
   "cell_type": "code",
   "execution_count": 14,
   "metadata": {},
   "outputs": [
    {
     "data": {
      "text/plain": [
       "[7, 11, 13]"
      ]
     },
     "execution_count": 14,
     "metadata": {},
     "output_type": "execute_result"
    }
   ],
   "source": [
    "temp = primes[3:6]\n",
    "temp"
   ]
  },
  {
   "cell_type": "markdown",
   "metadata": {},
   "source": [
    "New list (temp) has references to the same elements that are in the original list (primes). So, we are not creating new objects we are just referencing them.\n",
    "\n",
    "\n",
    "Now, if we want to reassign any of the objects in the new list (temp) or in the Original list, it will not effect other as lists are immutable.\n",
    "\n",
    "<img src='img/referential_arrays1.PNG'/>"
   ]
  },
  {
   "cell_type": "code",
   "execution_count": 15,
   "metadata": {},
   "outputs": [
    {
     "name": "stdout",
     "output_type": "stream",
     "text": [
      "[7, 11, 15]\n",
      "[2, 3, 5, 7, 11, 13, 17, 19]\n"
     ]
    }
   ],
   "source": [
    "temp[2] = 15\n",
    "print(temp)\n",
    "print(primes)"
   ]
  },
  {
   "cell_type": "code",
   "execution_count": 16,
   "metadata": {},
   "outputs": [
    {
     "name": "stdout",
     "output_type": "stream",
     "text": [
      "[7, 11, 15]\n",
      "[2, 3, 5, 7, 12, 13, 17, 19]\n"
     ]
    }
   ],
   "source": [
    "primes[4] = 12\n",
    "print(temp)\n",
    "print(primes)"
   ]
  },
  {
   "cell_type": "markdown",
   "metadata": {},
   "source": [
    "## Copying Arrays\n",
    "Ways of copying arrays in python\n",
    "1. Assignment operator (=)\n",
    "2. Shallow copy\n",
    "3. Deep copy\n",
    "\n",
    "\n",
    "### 1. Assignment operator (=)"
   ]
  },
  {
   "cell_type": "code",
   "execution_count": 17,
   "metadata": {},
   "outputs": [
    {
     "name": "stdout",
     "output_type": "stream",
     "text": [
      "orig_list = [1, 2, 3, 4] & it's id =2569682347528\n",
      "new_list = [1, 2, 3, 4] & it's id =2569682347528 \n"
     ]
    }
   ],
   "source": [
    "orig_list = [1,2,3,4]\n",
    "new_list = orig_list\n",
    "\n",
    "# Printing lists and the memory id of them\n",
    "print(f\"\"\"orig_list = {orig_list} & it's id ={id(orig_list)}\n",
    "new_list = {new_list} & it's id ={id(new_list)} \"\"\")"
   ]
  },
  {
   "cell_type": "markdown",
   "metadata": {},
   "source": [
    "In copying using assignement operator, **it just copies the memory address**, does not make copy of the python object. In the above example, we can see the both got same memory address.\n",
    "\n",
    "Now, when we edit the list, it will get updated in the orginal list as well as shown below:"
   ]
  },
  {
   "cell_type": "code",
   "execution_count": 18,
   "metadata": {},
   "outputs": [
    {
     "name": "stdout",
     "output_type": "stream",
     "text": [
      "orig_list = [1, 2, 3, 4, 100000], new_list = [1, 2, 3, 4, 100000]\n"
     ]
    }
   ],
   "source": [
    "new_list.append(100000)\n",
    "print(f\"\"\"orig_list = {orig_list}, new_list = {new_list}\"\"\")"
   ]
  },
  {
   "cell_type": "markdown",
   "metadata": {},
   "source": [
    "### 2. Shallow Copy\n",
    "In copying using the shallow copy, it consturcts a new compound object and then inserts references into it to the object found in the original. We have 3 different ways to create a shallow copy:\n",
    "1. Using copy module (ex: copy.copy(list_name))\n",
    "2. Using factory function (ex: list(list_name))\n",
    "3. Using slice operator (ex: list_name[:])"
   ]
  },
  {
   "cell_type": "code",
   "execution_count": 19,
   "metadata": {},
   "outputs": [
    {
     "name": "stdout",
     "output_type": "stream",
     "text": [
      "orig_list = [1, 2, 3, 4] & it's id =2569682346760\n",
      "copy_list = [1, 2, 3, 4] & it's id =2569682346440\n",
      "fact_list = [1, 2, 3, 4] & it's id =2569702774408\n",
      "slic_list = [1, 2, 3, 4] & it's id =2569680962632\n"
     ]
    }
   ],
   "source": [
    "import copy\n",
    "orig_list = [1,2,3,4]\n",
    "copy_list = copy.copy(orig_list)  # uisng copy module\n",
    "fact_list = list(orig_list)       # using factory function\n",
    "slic_list = orig_list[:]          # using slice operator\n",
    "\n",
    "# Printing lists and the memory id of them\n",
    "print(f\"\"\"orig_list = {orig_list} & it's id ={id(orig_list)}\n",
    "copy_list = {copy_list} & it's id ={id(copy_list)}\n",
    "fact_list = {fact_list} & it's id ={id(fact_list)}\n",
    "slic_list = {slic_list} & it's id ={id(slic_list)}\"\"\")"
   ]
  },
  {
   "cell_type": "markdown",
   "metadata": {},
   "source": [
    "As we can see the *list objects are same* but have **different memory address**\n",
    "\n",
    "#### Important Note:\n",
    "Now,*__if the original list is compound object__* (ex: list of lists), after shallow copy, new list elements still reference the original elements. Below is the example of the same:"
   ]
  },
  {
   "cell_type": "code",
   "execution_count": 20,
   "metadata": {},
   "outputs": [
    {
     "name": "stdout",
     "output_type": "stream",
     "text": [
      "orig_list = [[1, 2], [3, 4, 10000]], it's id =2569702605512 & new object id =2569681201416\n",
      "copy_list = [[1, 2], [3, 4, 10000]], it's id =2569682346952 & new object id =2569681201416\n"
     ]
    }
   ],
   "source": [
    "orig_list = [[1,2],[3,4]]\n",
    "copy_list = copy.copy(orig_list)\n",
    "copy_list[1].append(10000)\n",
    "\n",
    "\n",
    "print(f\"\"\"orig_list = {orig_list}, it's id ={id(orig_list)} & new object id ={id(orig_list[1])}\n",
    "copy_list = {copy_list}, it's id ={id(copy_list)} & new object id ={id(copy_list[1])}\"\"\")"
   ]
  },
  {
   "cell_type": "markdown",
   "metadata": {},
   "source": [
    "We can see the **although memory address of the lists are different, its elements do not**. This is because, in shallow copy, instead of copying the list’s elements to the new object, it simply copies the references to their memory addresses. *Therefore, while we are making changes to the original object, it’s reflected in the copied objects and vice versa.*\n",
    "\n",
    "\n",
    "### 3. Deep Copy\n",
    "In copying using deep copy, it constructs a new compound object and then recursively inserts copies into objects that are found in the original i.e, **we can reassign values in the copied compound object without changing the orignal**. Here is an example:"
   ]
  },
  {
   "cell_type": "code",
   "execution_count": 21,
   "metadata": {},
   "outputs": [
    {
     "name": "stdout",
     "output_type": "stream",
     "text": [
      "orig_list = [[1, 2], [3, 4]], it's id =2569682313032 & new object id =2569682295880\n",
      "copy_list = [[1, 2], [3, 4, 10000]], it's id =2569682346184 & new object id =2569682294984\n"
     ]
    }
   ],
   "source": [
    "orig_list = [[1,2],[3,4]]\n",
    "deep_list = copy.deepcopy(orig_list)\n",
    "deep_list[1].append(10000)\n",
    "\n",
    "\n",
    "print(f\"\"\"orig_list = {orig_list}, it's id ={id(orig_list)} & new object id ={id(orig_list[1])}\n",
    "copy_list = {deep_list}, it's id ={id(deep_list)} & new object id ={id(deep_list[1])}\"\"\")"
   ]
  },
  {
   "cell_type": "markdown",
   "metadata": {},
   "source": [
    "**We can see original list is not affected.**"
   ]
  },
  {
   "cell_type": "markdown",
   "metadata": {},
   "source": [
    "## Dynamic Arrays\n",
    "- Don't need to specify how large an array is beforehand\n",
    "- When dynamic array gets full, they double in size"
   ]
  },
  {
   "cell_type": "code",
   "execution_count": 22,
   "metadata": {},
   "outputs": [
    {
     "name": "stdout",
     "output_type": "stream",
     "text": [
      "Length: 0; Size in bytes: 64\n",
      "Length: 1; Size in bytes: 96\n",
      "Length: 2; Size in bytes: 96\n",
      "Length: 3; Size in bytes: 96\n",
      "Length: 4; Size in bytes: 96\n",
      "Length: 5; Size in bytes: 128\n",
      "Length: 6; Size in bytes: 128\n",
      "Length: 7; Size in bytes: 128\n",
      "Length: 8; Size in bytes: 128\n",
      "Length: 9; Size in bytes: 192\n"
     ]
    }
   ],
   "source": [
    "import sys\n",
    "\n",
    "n = 10\n",
    "data =[]\n",
    "for i in range(n):\n",
    "    a = len(data) # number of elements\n",
    "    b = sys.getsizeof(data) # size in Bytes\n",
    "    \n",
    "    print(f'Length: {a}; Size in bytes: {b}')\n",
    "    data.append(n)"
   ]
  },
  {
   "cell_type": "markdown",
   "metadata": {},
   "source": [
    "As we can see, initally list (data) will allocate 64 bytes and **as the length increase, bytes size will also increase as a pattern.**\n",
    "\n",
    "### Dynamic Array implementation\n",
    "Initally 64 bytes size is allocated to the list and when the element is appended to a list at the time when the underlying array is full, we will do following steps:\n",
    "- (a). Create the new array B\n",
    "- (b). Store elements of A in B\n",
    "- (c). Reassign reference A to the new array\n",
    "\n",
    "<img src='img/dynamic_array.PNG'/>\n",
    "\n",
    "\n"
   ]
  },
  {
   "cell_type": "code",
   "execution_count": 23,
   "metadata": {},
   "outputs": [],
   "source": [
    "import ctypes\n",
    "\n",
    "class DynamicArray(object):\n",
    "    \n",
    "    \"\"\"\n",
    "    DYNAMIC ARRAY CLASS\n",
    "    \"\"\"\n",
    "    def __init__(self):\n",
    "        self.n = 0         # Count actual elements (Default is 0)\n",
    "        self.capacity = 1  # Default Capacity\n",
    "        self.A = self.make_array(self.capacity)\n",
    "        \n",
    "    def __len__(self):\n",
    "        \"\"\"\n",
    "        Return number of elements sorted in array\n",
    "        \"\"\"\n",
    "        return self.n\n",
    "    \n",
    "    def __getitem__(self,k):\n",
    "        \"\"\"\n",
    "        Return element at index k\n",
    "        \"\"\"\n",
    "        if not 0 <= k <self.n:\n",
    "            return IndexError('K is out of bounds!') # Check it k index is in bounds of array\n",
    "        \n",
    "        return self.A[k] #Retrieve from array at index k\n",
    "        \n",
    "    def append(self, ele):\n",
    "        \"\"\"\n",
    "        Add element to end of the array\n",
    "        \"\"\"\n",
    "        if self.n == self.capacity:\n",
    "            self._resize(2*self.capacity) #Double capacity if not enough room\n",
    "        \n",
    "        self.A[self.n] = ele #Set self.n index to element\n",
    "        self.n += 1\n",
    "        \n",
    "    def _resize(self,new_cap):\n",
    "        \"\"\"\n",
    "        Resize internal array to capacity new_cap\n",
    "        \"\"\"\n",
    "        \n",
    "        B = self.make_array(new_cap) # New bigger array\n",
    "        \n",
    "        for k in range(self.n): # Reference all existing values\n",
    "            B[k] = self.A[k]\n",
    "            \n",
    "        self.A = B # Call A the new bigger array\n",
    "        self.capacity = new_cap # Reset the capacity\n",
    "        \n",
    "    def make_array(self,new_cap):\n",
    "        \"\"\"\n",
    "        Returns a new array with new_cap capacity\n",
    "        \"\"\"\n",
    "        return (new_cap * ctypes.py_object)()"
   ]
  },
  {
   "cell_type": "code",
   "execution_count": 24,
   "metadata": {},
   "outputs": [
    {
     "name": "stdout",
     "output_type": "stream",
     "text": [
      "Length: 0; Size in bytes: 56\n",
      "Length: 1; Size in bytes: 56\n",
      "Length: 2; Size in bytes: 56\n",
      "Length: 3; Size in bytes: 56\n",
      "Length: 4; Size in bytes: 56\n",
      "Length: 5; Size in bytes: 56\n",
      "Length: 6; Size in bytes: 56\n",
      "Length: 7; Size in bytes: 56\n",
      "Length: 8; Size in bytes: 56\n",
      "Length: 9; Size in bytes: 56\n"
     ]
    }
   ],
   "source": [
    "import sys\n",
    "from pympler import asizeof\n",
    "n = 10\n",
    "\n",
    "arr = DynamicArray()\n",
    "\n",
    "for i in range(n):\n",
    "    a = len(arr) # number of elements\n",
    "    b = sys.getsizeof(arr) # size in Bytes\n",
    "    #b = asizeof.asizeof(arr) # size in Bytes\n",
    "    print(f'Length: {a}; Size in bytes: {b}')\n",
    "    \n",
    "    arr.append(n)"
   ]
  },
  {
   "attachments": {},
   "cell_type": "markdown",
   "metadata": {},
   "source": [
    "### Amortized Analysis of Dynamic Array: O(1)\n",
    "\n",
    "\n",
    "<img src='img/amortizedcost_DA.PNG'/>"
   ]
  },
  {
   "cell_type": "code",
   "execution_count": null,
   "metadata": {},
   "outputs": [],
   "source": []
  }
 ],
 "metadata": {
  "kernelspec": {
   "display_name": "Python 3",
   "language": "python",
   "name": "python3"
  },
  "language_info": {
   "codemirror_mode": {
    "name": "ipython",
    "version": 3
   },
   "file_extension": ".py",
   "mimetype": "text/x-python",
   "name": "python",
   "nbconvert_exporter": "python",
   "pygments_lexer": "ipython3",
   "version": "3.7.6"
  }
 },
 "nbformat": 4,
 "nbformat_minor": 4
}
